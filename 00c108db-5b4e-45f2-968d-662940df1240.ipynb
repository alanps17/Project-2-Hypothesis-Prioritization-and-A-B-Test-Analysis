{
 "cells": [
  {
   "cell_type": "markdown",
   "metadata": {},
   "source": [
    "# Часть 1. Приоритизация гипотез.\n",
    "В файле /datasets/hypothesis.csv 9 гипотез по увеличению выручки интернет-магазина с указанными параметрами Reach, Impact, Confidence, Effort."
   ]
  },
  {
   "cell_type": "markdown",
   "metadata": {},
   "source": [
    "**Задача**"
   ]
  },
  {
   "cell_type": "markdown",
   "metadata": {},
   "source": [
    "- Примените фреймворк ICE для приоритизации гипотез. Отсортируйте их по убыванию приоритета.\n",
    "- Примените фреймворк RICE для приоритизации гипотез. Отсортируйте их по убыванию приоритета.\n",
    "- Укажите, как изменилась приоритизация гипотез при применении RICE вместо ICE. Объясните, почему так произошло."
   ]
  },
  {
   "cell_type": "code",
   "execution_count": 16,
   "metadata": {},
   "outputs": [],
   "source": [
    "import pandas as pd\n",
    "import matplotlib.pyplot as plt\n",
    "import numpy as np\n",
    "from scipy import stats"
   ]
  },
  {
   "cell_type": "code",
   "execution_count": 17,
   "metadata": {},
   "outputs": [],
   "source": [
    "# Загрузка данных\n",
    "hypothesis = pd.read_csv('/datasets/hypothesis.csv')\n",
    "orders = pd.read_csv('/datasets/orders.csv')\n",
    "visitors = pd.read_csv('/datasets/visitors.csv')"
   ]
  },
  {
   "cell_type": "code",
   "execution_count": 18,
   "metadata": {},
   "outputs": [],
   "source": [
    "# Замена пробелов на символы подчеркивания и приведение названий столбцов к нижнему регистру\n",
    "hypothesis.columns = hypothesis.columns.str.replace(' ', '_').str.lower()\n",
    "\n",
    "# Приведение названий столбцов к нижнему регистру\n",
    "hypothesis.columns = hypothesis.columns.str.lower()"
   ]
  },
  {
   "cell_type": "code",
   "execution_count": 19,
   "metadata": {},
   "outputs": [],
   "source": [
    "# Расчет ICE score для каждой гипотезы\n",
    "hypothesis['ice'] = hypothesis['impact'] * hypothesis['confidence'] / hypothesis['efforts']\n",
    "\n",
    "# Сортировка гипотез по убыванию приоритета\n",
    "hypothesis_ice = hypothesis.sort_values(by='ice', ascending=False)"
   ]
  },
  {
   "cell_type": "code",
   "execution_count": 20,
   "metadata": {},
   "outputs": [],
   "source": [
    "# Расчет RICE score для каждой гипотезы\n",
    "hypothesis['rice'] = hypothesis['reach'] * hypothesis['impact'] * hypothesis['confidence'] / hypothesis['efforts']\n",
    "\n",
    "# Сортировка гипотез по убыванию приоритета\n",
    "hypothesis_rice = hypothesis.sort_values(by='rice', ascending=False)"
   ]
  },
  {
   "cell_type": "code",
   "execution_count": 21,
   "metadata": {},
   "outputs": [
    {
     "name": "stdout",
     "output_type": "stream",
     "text": [
      "Приоритизация гипотез для ICE:\n",
      "                                                                                                     hypothesis  \\\n",
      "8                                                       Запустить акцию, дающую скидку на товар в день рождения   \n",
      "0            Добавить два новых канала привлечения трафика, что позволит привлекать на 30% больше пользователей   \n",
      "7              Добавить форму подписки на все основные страницы, чтобы собрать базу клиентов для email-рассылок   \n",
      "6          Показать на главной странице баннеры с актуальными акциями и распродажами, чтобы увеличить конверсию   \n",
      "2  Добавить блоки рекомендаций товаров на сайт интернет магазина, чтобы повысить конверсию и средний чек заказа   \n",
      "1                                     Запустить собственную службу доставки, что сократит срок доставки заказов   \n",
      "5                      Добавить страницу отзывов клиентов о магазине, что позволит увеличить количество заказов   \n",
      "3           Изменить структура категорий, что увеличит конверсию, т.к. пользователи быстрее найдут нужный товар   \n",
      "4                              Изменить цвет фона главной страницы, чтобы увеличить вовлеченность пользователей   \n",
      "\n",
      "         ice  \n",
      "8  16.200000  \n",
      "0  13.333333  \n",
      "7  11.200000  \n",
      "6   8.000000  \n",
      "2   7.000000  \n",
      "1   2.000000  \n",
      "5   1.333333  \n",
      "3   1.125000  \n",
      "4   1.000000  \n",
      "\n",
      "Приоритизация гипотез для RICE:\n",
      "                                                                                                     hypothesis  \\\n",
      "7              Добавить форму подписки на все основные страницы, чтобы собрать базу клиентов для email-рассылок   \n",
      "2  Добавить блоки рекомендаций товаров на сайт интернет магазина, чтобы повысить конверсию и средний чек заказа   \n",
      "0            Добавить два новых канала привлечения трафика, что позволит привлекать на 30% больше пользователей   \n",
      "6          Показать на главной странице баннеры с актуальными акциями и распродажами, чтобы увеличить конверсию   \n",
      "8                                                       Запустить акцию, дающую скидку на товар в день рождения   \n",
      "3           Изменить структура категорий, что увеличит конверсию, т.к. пользователи быстрее найдут нужный товар   \n",
      "1                                     Запустить собственную службу доставки, что сократит срок доставки заказов   \n",
      "5                      Добавить страницу отзывов клиентов о магазине, что позволит увеличить количество заказов   \n",
      "4                              Изменить цвет фона главной страницы, чтобы увеличить вовлеченность пользователей   \n",
      "\n",
      "    rice  \n",
      "7  112.0  \n",
      "2   56.0  \n",
      "0   40.0  \n",
      "6   40.0  \n",
      "8   16.2  \n",
      "3    9.0  \n",
      "1    4.0  \n",
      "5    4.0  \n",
      "4    3.0  \n"
     ]
    }
   ],
   "source": [
    "# Сортировка гипотез по убыванию приоритета для RICE\n",
    "hypothesis_rice = hypothesis.sort_values(by='rice', ascending=False)\n",
    "\n",
    "# Изменение настроек отображения DataFrame\n",
    "pd.set_option('display.max_colwidth', 200)\n",
    "\n",
    "# Сравнение приоритизации гипотез для ICE и RICE\n",
    "print('Приоритизация гипотез для ICE:')\n",
    "print(hypothesis_ice[['hypothesis', 'ice']])\n",
    "print()\n",
    "print('Приоритизация гипотез для RICE:')\n",
    "print(hypothesis_rice[['hypothesis', 'rice']])"
   ]
  },
  {
   "cell_type": "markdown",
   "metadata": {},
   "source": [
    "Сравнивая приоритизацию гипотез для ICE и RICE, можно заметить, что некоторые гипотезы изменили свое положение в рейтинге. Например, гипотеза 7 поднялась с третьего места в рейтинге ICE на первое место в рейтинге RICE. Это произошло из-за добавления параметра Reach в расчет RICE score.\n",
    "\n",
    "Reach оценивает охват пользователей, которых затронет изменение. Гипотезы с большим охватом будут иметь больший приоритет при использовании RICE по сравнению с ICE. В нашем примере гипотеза 7 имеет высокое значение Reach, поэтому ее приоритет повысился при использовании RICE.\n",
    "\n",
    "В то же время гипотеза 8 опустилась с первого места в рейтинге ICE на пятое место в рейтинге RICE. Это произошло из-за того, что у этой гипотезы низкое значение Reach. Несмотря на высокие значения Impact и Confidence, низкий охват пользователей привел к снижению приоритета этой гипотезы при использовании RICE.\n",
    "\n",
    "Таким образом, добавление параметра Reach в расчет RICE score позволяет учитывать охват пользователей при приоритизации гипотез и изменяет рейтинг гипотез по сравнению с ICE."
   ]
  },
  {
   "cell_type": "markdown",
   "metadata": {},
   "source": [
    "# Часть 2. Анализ A/B-теста\n",
    "Вы провели A/B-тест и получили результаты, которые описаны в файлах /datasets/orders.csv и /datasets/visitors.csv."
   ]
  },
  {
   "cell_type": "markdown",
   "metadata": {},
   "source": [
    "**Задача**\n",
    "\n",
    "Проанализируйте A/B-тест:"
   ]
  },
  {
   "cell_type": "code",
   "execution_count": 22,
   "metadata": {},
   "outputs": [
    {
     "name": "stdout",
     "output_type": "stream",
     "text": [
      "Пропущенные значения в hypothesis:\n",
      "hypothesis    0\n",
      "reach         0\n",
      "impact        0\n",
      "confidence    0\n",
      "efforts       0\n",
      "ice           0\n",
      "rice          0\n",
      "dtype: int64\n",
      "\n",
      "Пропущенные значения в orders:\n",
      "transactionId    0\n",
      "visitorId        0\n",
      "date             0\n",
      "revenue          0\n",
      "group            0\n",
      "dtype: int64\n",
      "\n",
      "Пропущенные значения в visitors:\n",
      "date        0\n",
      "group       0\n",
      "visitors    0\n",
      "dtype: int64\n",
      "\n",
      "Типы данных в hypothesis:\n",
      "hypothesis     object\n",
      "reach           int64\n",
      "impact          int64\n",
      "confidence      int64\n",
      "efforts         int64\n",
      "ice           float64\n",
      "rice          float64\n",
      "dtype: object\n",
      "\n",
      "Типы данных в orders:\n",
      "transactionId     int64\n",
      "visitorId         int64\n",
      "date             object\n",
      "revenue           int64\n",
      "group            object\n",
      "dtype: object\n",
      "\n",
      "Типы данных в visitors:\n",
      "date        object\n",
      "group       object\n",
      "visitors     int64\n",
      "dtype: object\n",
      "\n",
      "Количество дубликатов в hypothesis: 0\n",
      "Количество дубликатов в orders: 0\n",
      "Количество дубликатов в visitors: 0\n",
      "\n",
      "Первые 5 строк hypothesis:\n",
      "                                                                                                     hypothesis  \\\n",
      "0            Добавить два новых канала привлечения трафика, что позволит привлекать на 30% больше пользователей   \n",
      "1                                     Запустить собственную службу доставки, что сократит срок доставки заказов   \n",
      "2  Добавить блоки рекомендаций товаров на сайт интернет магазина, чтобы повысить конверсию и средний чек заказа   \n",
      "3           Изменить структура категорий, что увеличит конверсию, т.к. пользователи быстрее найдут нужный товар   \n",
      "4                              Изменить цвет фона главной страницы, чтобы увеличить вовлеченность пользователей   \n",
      "\n",
      "   reach  impact  confidence  efforts        ice  rice  \n",
      "0      3      10           8        6  13.333333  40.0  \n",
      "1      2       5           4       10   2.000000   4.0  \n",
      "2      8       3           7        3   7.000000  56.0  \n",
      "3      8       3           3        8   1.125000   9.0  \n",
      "4      3       1           1        1   1.000000   3.0  \n",
      "\n",
      "Первые 5 строк orders:\n",
      "   transactionId   visitorId       date  revenue group\n",
      "0     3667963787  3312258926 2019-08-15     1650     B\n",
      "1     2804400009  3642806036 2019-08-15      730     B\n",
      "2     2961555356  4069496402 2019-08-15      400     A\n",
      "3     3797467345  1196621759 2019-08-15     9759     B\n",
      "4     2282983706  2322279887 2019-08-15     2308     B\n",
      "\n",
      "Первые 5 строк visitors:\n",
      "        date group  visitors\n",
      "0 2019-08-01     A       719\n",
      "1 2019-08-02     A       619\n",
      "2 2019-08-03     A       507\n",
      "3 2019-08-04     A       717\n",
      "4 2019-08-05     A       756\n"
     ]
    }
   ],
   "source": [
    "# Проверка пропущенных значений\n",
    "print('Пропущенные значения в hypothesis:')\n",
    "print(hypothesis.isnull().sum())\n",
    "print('\\nПропущенные значения в orders:')\n",
    "print(orders.isnull().sum())\n",
    "print('\\nПропущенные значения в visitors:')\n",
    "print(visitors.isnull().sum())\n",
    "\n",
    "# Проверка типов данных\n",
    "print('\\nТипы данных в hypothesis:')\n",
    "print(hypothesis.dtypes)\n",
    "print('\\nТипы данных в orders:')\n",
    "print(orders.dtypes)\n",
    "print('\\nТипы данных в visitors:')\n",
    "print(visitors.dtypes)\n",
    "\n",
    "# Проверка дубликатов\n",
    "print('\\nКоличество дубликатов в hypothesis:', hypothesis.duplicated().sum())\n",
    "print('Количество дубликатов в orders:', orders.duplicated().sum())\n",
    "print('Количество дубликатов в visitors:', visitors.duplicated().sum())\n",
    "\n",
    "# Удаление дубликатов (если они есть)\n",
    "hypothesis = hypothesis.drop_duplicates()\n",
    "orders = orders.drop_duplicates()\n",
    "visitors = visitors.drop_duplicates()\n",
    "\n",
    "# Приведение столбца date к типу datetime\n",
    "orders['date'] = pd.to_datetime(orders['date'], format='%Y-%m-%d')\n",
    "visitors['date'] = pd.to_datetime(visitors['date'], format='%Y-%m-%d')\n",
    "\n",
    "# Вывод первых 5 строк каждого датафрейма для ознакомления с данными\n",
    "print('\\nПервые 5 строк hypothesis:')\n",
    "print(hypothesis.head())\n",
    "print('\\nПервые 5 строк orders:')\n",
    "print(orders.head())\n",
    "print('\\nПервые 5 строк visitors:')\n",
    "print(visitors.head())"
   ]
  },
  {
   "cell_type": "markdown",
   "metadata": {},
   "source": [
    "**1) Постройте график кумулятивной выручки по группам. Сделайте выводы и предположения.**"
   ]
  },
  {
   "cell_type": "code",
   "execution_count": 23,
   "metadata": {},
   "outputs": [
    {
     "data": {
      "image/png": "[encoded data removed]",
      "text/plain": [
       "<Figure size 1440x432 with 1 Axes>"
      ]
     },
     "metadata": {
      "needs_background": "light"
     },
     "output_type": "display_data"
    }
   ],
   "source": [
    "# Создание переменной с уникальными парами дат и групп\n",
    "datesGroups = orders[['date','group']].drop_duplicates()\n",
    "\n",
    "# Расчет кумулятивных данных о заказах\n",
    "ordersAggregated = datesGroups.apply(lambda x: orders[np.logical_and(orders['date'] <= x['date'], orders['group'] == x['group'])].agg({'date' : 'max', 'group' : 'max', 'transactionId' : pd.Series.nunique, 'visitorId' : pd.Series.nunique, 'revenue' : 'sum'}), axis=1).sort_values(by=['date','group'])\n",
    "\n",
    "# Создание отдельных DataFrame для групп A и B\n",
    "cumulativeDataA = ordersAggregated[ordersAggregated['group']=='A']\n",
    "cumulativeDataB = ordersAggregated[ordersAggregated['group']=='B']\n",
    "\n",
    "# Изменение размера графика\n",
    "plt.figure(figsize=(20, 6))\n",
    "\n",
    "# Построение графика кумулятивной выручки по группам\n",
    "plt.plot(cumulativeDataA['date'], cumulativeDataA['revenue'], label='A')\n",
    "plt.plot(cumulativeDataB['date'], cumulativeDataB['revenue'], label='B')\n",
    "\n",
    "# Добавление названия графика и подписей к осям\n",
    "plt.title('Кумулятивная выручка по группам')\n",
    "plt.xlabel('Дата')\n",
    "plt.ylabel('Выручка')\n",
    "\n",
    "plt.legend()\n",
    "plt.xticks(rotation=45)\n",
    "plt.show()"
   ]
  },
  {
   "cell_type": "markdown",
   "metadata": {},
   "source": [
    "На основе предоставленных данных можно сделать следующие выводы и предположения:\n",
    "\n",
    "Кумулятивная выручка растет в течение всего периода A/B-теста для обеих групп.\n",
    "Выручка группы B растет быстрее, чем выручка группы A. Это может указывать на то, что изменения, внесенные в группу B, положительно влияют на выручку.\n",
    "В середине теста (19 августа) наблюдается резкий скачок кумулятивной выручки для группы B. Это может указывать на наличие выбросов или аномалий в данных (например, крупных заказов или выбросов цен). Необходимо проанализировать данные о заказах и проверить наличие выбросов."
   ]
  },
  {
   "cell_type": "markdown",
   "metadata": {},
   "source": [
    "**2) Постройте график кумулятивного среднего чека по группам. Сделайте выводы и предположения.**"
   ]
  },
  {
   "cell_type": "code",
   "execution_count": 24,
   "metadata": {},
   "outputs": [
    {
     "data": {
      "image/png": "[encoded data removed]",
      "text/plain": [
       "<Figure size 1440x432 with 1 Axes>"
      ]
     },
     "metadata": {
      "needs_background": "light"
     },
     "output_type": "display_data"
    }
   ],
   "source": [
    "# Создание отдельных DataFrame для групп A и B\n",
    "cumulativeDataA = ordersAggregated[ordersAggregated['group']=='A'].copy()\n",
    "cumulativeDataB = ordersAggregated[ordersAggregated['group']=='B'].copy()\n",
    "\n",
    "# Расчет кумулятивного среднего чека для каждой группы\n",
    "cumulativeDataA['average_check'] = cumulativeDataA['revenue'] / cumulativeDataA['transactionId']\n",
    "cumulativeDataB['average_check'] = cumulativeDataB['revenue'] / cumulativeDataB['transactionId']\n",
    "\n",
    "# Изменение размера графика\n",
    "plt.figure(figsize=(20, 6))\n",
    "\n",
    "# Построение графика кумулятивного среднего чека по группам\n",
    "plt.plot(cumulativeDataA['date'], cumulativeDataA['average_check'], label='A')\n",
    "plt.plot(cumulativeDataB['date'], cumulativeDataB['average_check'], label='B')\n",
    "\n",
    "# Добавление названия графика и подписей к осям\n",
    "plt.title('Кумулятивный средний чек по группам')\n",
    "plt.xlabel('Дата')\n",
    "plt.ylabel('Средний чек')\n",
    "\n",
    "plt.legend()\n",
    "plt.xticks(rotation=45)\n",
    "plt.show()"
   ]
  },
  {
   "cell_type": "markdown",
   "metadata": {},
   "source": [
    "Из предоставленной таблицы видно, что группа В обеспечивает более высокий уровень дохода, начиная с 19 августа. Стоит обратить внимание на то, что 19 августа оказался ключевым днем, поскольку группа В сделала качественный прорыв, а спустя несколько дней после этого дня средний чек тоже начал быстро расти. Возможно, было проведено некоторое изменение, которое повлияло на потребительское поведение и предпочтения группы B, что привело к увеличению их выручки. Также видно, что в начале периода уровень дохода был значительно выше в группе A, но с течением времени группа В догнала и перегнала группу A."
   ]
  },
  {
   "cell_type": "markdown",
   "metadata": {},
   "source": [
    "**3) Постройте график относительного изменения кумулятивного среднего чека группы B к группе A. Сделайте выводы и предположения.**"
   ]
  },
  {
   "cell_type": "code",
   "execution_count": 25,
   "metadata": {},
   "outputs": [
    {
     "data": {
      "image/png": "[encoded data removed]",
      "text/plain": [
       "<Figure size 1440x432 with 1 Axes>"
      ]
     },
     "metadata": {
      "needs_background": "light"
     },
     "output_type": "display_data"
    }
   ],
   "source": [
    "# Создание отдельных DataFrame для групп A и B\n",
    "cumulativeDataA = ordersAggregated[ordersAggregated['group']=='A'].copy()\n",
    "cumulativeDataB = ordersAggregated[ordersAggregated['group']=='B'].copy()\n",
    "\n",
    "# Расчет кумулятивного среднего чека для каждой группы\n",
    "cumulativeDataA['average_check'] = cumulativeDataA['revenue'] / cumulativeDataA['transactionId']\n",
    "cumulativeDataB['average_check'] = cumulativeDataB['revenue'] / cumulativeDataB['transactionId']\n",
    "\n",
    "# Объединение данных для групп A и B\n",
    "mergedCumulativeData = cumulativeDataA.merge(cumulativeDataB, left_on='date', right_on='date', how='left', suffixes=['A', 'B'])\n",
    "\n",
    "# Расчет относительного изменения кумулятивного среднего чека\n",
    "mergedCumulativeData['relative_change'] = (mergedCumulativeData['average_checkB'] / mergedCumulativeData['average_checkA']) - 1\n",
    "\n",
    "# Изменение размера графика\n",
    "plt.figure(figsize=(20, 6))\n",
    "\n",
    "# Построение графика относительного изменения кумулятивного среднего чека\n",
    "plt.plot(mergedCumulativeData['date'], mergedCumulativeData['relative_change'])\n",
    "\n",
    "# Добавление названия графика и подписей к осям\n",
    "plt.title('Относительное изменение кумулятивного среднего чека')\n",
    "plt.xlabel('Дата')\n",
    "plt.ylabel('Относительное изменение')\n",
    "\n",
    "plt.axhline(y=0, color='black', linestyle='--')\n",
    "plt.xticks(rotation=45)\n",
    "plt.show()"
   ]
  },
  {
   "cell_type": "markdown",
   "metadata": {},
   "source": [
    "На основе предоставленных данных можно заметить, что в начале теста относительное изменение кумулятивного среднего чека в группе B было отрицательным и составило -22%. Однако, уже после первых дней теста группа В догоняет и превосходит группу А в среднем чеке. В дальнейшем, разница между группами становится все больше и достигает максимума примерно на 18-19 день. После этого, разница между группами плавно сокращается и в конце теста составляет около 26%.\n",
    "\n",
    "Возможная причина превышения по среднему чеку у группы B может быть в том, что была введена новая функциональность, которая может привлечь больше клиентов с более высокими тратами. Такие изменения могли повлиять на средний чек в группе B, и, возможно, влияют на разницу между группами.\n",
    "\n",
    "Для дальнейшей проверки гипотез и поиска причин необходимо провести более детальный анализ теста, исследовать взаимосвязь между другими метриками (количеством посетителей, количеством заказов и прочими), провести A/B тестирование и провести статистический анализ для подтверждения или опровержения гипотезы о причинах различий между группами.\n"
   ]
  },
  {
   "cell_type": "markdown",
   "metadata": {},
   "source": [
    "**4) Постройте график кумулятивного среднего количества заказов на посетителя по группам. Сделайте выводы и предположения.**"
   ]
  },
  {
   "cell_type": "code",
   "execution_count": 26,
   "metadata": {},
   "outputs": [
    {
     "data": {
      "image/png": "[encoded data removed]",
      "text/plain": [
       "<Figure size 1440x432 with 1 Axes>"
      ]
     },
     "metadata": {
      "needs_background": "light"
     },
     "output_type": "display_data"
    }
   ],
   "source": [
    "# Объединение таблиц с кумулятивными данными о заказах и посетителях\n",
    "cumulativeData = cumulativeDataA.merge(cumulativeDataB, left_on='date', right_on='date', how='left', suffixes=['A', 'B'])\n",
    "\n",
    "# Расчет кумулятивного среднего количества заказов на посетителя для каждой группы\n",
    "cumulativeData['orders_per_visitorA'] = cumulativeData['transactionIdA'] / cumulativeData['visitorIdA']\n",
    "cumulativeData['orders_per_visitorB'] = cumulativeData['transactionIdB'] / cumulativeData['visitorIdB']\n",
    "\n",
    "# Изменение размера графика\n",
    "plt.figure(figsize=(20, 6))\n",
    "\n",
    "# Построение графика кумулятивного среднего количества заказов на посетителя по группам\n",
    "plt.plot(cumulativeData['date'], cumulativeData['orders_per_visitorA'], label='A')\n",
    "plt.plot(cumulativeData['date'], cumulativeData['orders_per_visitorB'], label='B')\n",
    "\n",
    "# Добавление названия графика и подписей к осям\n",
    "plt.title('Кумулятивное среднее количество заказов на посетителя по группам')\n",
    "plt.xlabel('Дата')\n",
    "plt.ylabel('Среднее количество заказов на посетителя')\n",
    "\n",
    "plt.legend()\n",
    "plt.xticks(rotation=45)\n",
    "plt.show()"
   ]
  },
  {
   "cell_type": "markdown",
   "metadata": {},
   "source": [
    "Из таблицы видно, что на протяжении всего временного периода группа B показывает более высокое значение кумулятивного среднего количества заказов на посетителя, чем группа A. Также можно заметить, что значения обеих групп с течением времени устанавливаются около своих средних значений в районе 1.1 заказа на посетителя.\n",
    "\n",
    "Также можно выдвинуть предположение, что данная разница между группами может быть связана с какими-то различиями в целевой аудитории, учитывая, что все остальные условия эксперимента были одинаковыми. Например, возможно, что пользователи, попавшие в группу B, имеют более высокий уровень дохода или являются более целевой аудиторией для продукта, что влияет на их склонность к покупкам. "
   ]
  },
  {
   "cell_type": "markdown",
   "metadata": {},
   "source": [
    "**5) Постройте график относительного изменения кумулятивного среднего количества заказов на посетителя группы B к группе A. Сделайте выводы и предположения.**"
   ]
  },
  {
   "cell_type": "code",
   "execution_count": 27,
   "metadata": {},
   "outputs": [
    {
     "data": {
      "text/html": [
       "<div>\n",
       "<style scoped>\n",
       "    .dataframe tbody tr th:only-of-type {\n",
       "        vertical-align: middle;\n",
       "    }\n",
       "\n",
       "    .dataframe tbody tr th {\n",
       "        vertical-align: top;\n",
       "    }\n",
       "\n",
       "    .dataframe thead th {\n",
       "        text-align: right;\n",
       "    }\n",
       "</style>\n",
       "<table border=\"1\" class=\"dataframe\">\n",
       "  <thead>\n",
       "    <tr style=\"text-align: right;\">\n",
       "      <th></th>\n",
       "      <th>date</th>\n",
       "      <th>groupA</th>\n",
       "      <th>transactionIdA</th>\n",
       "      <th>visitorIdA</th>\n",
       "      <th>revenueA</th>\n",
       "      <th>average_checkA</th>\n",
       "      <th>groupB</th>\n",
       "      <th>transactionIdB</th>\n",
       "      <th>visitorIdB</th>\n",
       "      <th>revenueB</th>\n",
       "      <th>average_checkB</th>\n",
       "      <th>orders_per_visitorA</th>\n",
       "      <th>orders_per_visitorB</th>\n",
       "    </tr>\n",
       "  </thead>\n",
       "  <tbody>\n",
       "    <tr>\n",
       "      <th>0</th>\n",
       "      <td>2019-08-01</td>\n",
       "      <td>A</td>\n",
       "      <td>24</td>\n",
       "      <td>20</td>\n",
       "      <td>148579</td>\n",
       "      <td>6190.791667</td>\n",
       "      <td>B</td>\n",
       "      <td>21</td>\n",
       "      <td>20</td>\n",
       "      <td>101217</td>\n",
       "      <td>4819.857143</td>\n",
       "      <td>1.200000</td>\n",
       "      <td>1.050000</td>\n",
       "    </tr>\n",
       "    <tr>\n",
       "      <th>1</th>\n",
       "      <td>2019-08-02</td>\n",
       "      <td>A</td>\n",
       "      <td>44</td>\n",
       "      <td>38</td>\n",
       "      <td>242401</td>\n",
       "      <td>5509.113636</td>\n",
       "      <td>B</td>\n",
       "      <td>45</td>\n",
       "      <td>43</td>\n",
       "      <td>266748</td>\n",
       "      <td>5927.733333</td>\n",
       "      <td>1.157895</td>\n",
       "      <td>1.046512</td>\n",
       "    </tr>\n",
       "    <tr>\n",
       "      <th>2</th>\n",
       "      <td>2019-08-03</td>\n",
       "      <td>A</td>\n",
       "      <td>68</td>\n",
       "      <td>62</td>\n",
       "      <td>354874</td>\n",
       "      <td>5218.735294</td>\n",
       "      <td>B</td>\n",
       "      <td>61</td>\n",
       "      <td>59</td>\n",
       "      <td>380996</td>\n",
       "      <td>6245.836066</td>\n",
       "      <td>1.096774</td>\n",
       "      <td>1.033898</td>\n",
       "    </tr>\n",
       "    <tr>\n",
       "      <th>3</th>\n",
       "      <td>2019-08-04</td>\n",
       "      <td>A</td>\n",
       "      <td>84</td>\n",
       "      <td>77</td>\n",
       "      <td>425699</td>\n",
       "      <td>5067.845238</td>\n",
       "      <td>B</td>\n",
       "      <td>78</td>\n",
       "      <td>75</td>\n",
       "      <td>489567</td>\n",
       "      <td>6276.500000</td>\n",
       "      <td>1.090909</td>\n",
       "      <td>1.040000</td>\n",
       "    </tr>\n",
       "    <tr>\n",
       "      <th>4</th>\n",
       "      <td>2019-08-05</td>\n",
       "      <td>A</td>\n",
       "      <td>109</td>\n",
       "      <td>100</td>\n",
       "      <td>549917</td>\n",
       "      <td>5045.110092</td>\n",
       "      <td>B</td>\n",
       "      <td>101</td>\n",
       "      <td>98</td>\n",
       "      <td>581995</td>\n",
       "      <td>5762.326733</td>\n",
       "      <td>1.090000</td>\n",
       "      <td>1.030612</td>\n",
       "    </tr>\n",
       "  </tbody>\n",
       "</table>\n",
       "</div>"
      ],
      "text/plain": [
       "        date groupA  transactionIdA  visitorIdA  revenueA  average_checkA  \\\n",
       "0 2019-08-01      A              24          20    148579     6190.791667   \n",
       "1 2019-08-02      A              44          38    242401     5509.113636   \n",
       "2 2019-08-03      A              68          62    354874     5218.735294   \n",
       "3 2019-08-04      A              84          77    425699     5067.845238   \n",
       "4 2019-08-05      A             109         100    549917     5045.110092   \n",
       "\n",
       "  groupB  transactionIdB  visitorIdB  revenueB  average_checkB  \\\n",
       "0      B              21          20    101217     4819.857143   \n",
       "1      B              45          43    266748     5927.733333   \n",
       "2      B              61          59    380996     6245.836066   \n",
       "3      B              78          75    489567     6276.500000   \n",
       "4      B             101          98    581995     5762.326733   \n",
       "\n",
       "   orders_per_visitorA  orders_per_visitorB  \n",
       "0             1.200000             1.050000  \n",
       "1             1.157895             1.046512  \n",
       "2             1.096774             1.033898  \n",
       "3             1.090909             1.040000  \n",
       "4             1.090000             1.030612  "
      ]
     },
     "execution_count": 27,
     "metadata": {},
     "output_type": "execute_result"
    }
   ],
   "source": [
    "cumulativeData.head()"
   ]
  },
  {
   "cell_type": "code",
   "execution_count": 28,
   "metadata": {},
   "outputs": [
    {
     "data": {
      "image/png": "[encoded data removed]",
      "text/plain": [
       "<Figure size 1440x432 with 1 Axes>"
      ]
     },
     "metadata": {
      "needs_background": "light"
     },
     "output_type": "display_data"
    }
   ],
   "source": [
    "# Создание отдельных DataFrame для групп A и B\n",
    "cumulativeDataA = ordersAggregated[ordersAggregated['group']=='A'].copy()\n",
    "cumulativeDataB = ordersAggregated[ordersAggregated['group']=='B'].copy()\n",
    "\n",
    "# Создание отдельных DataFrame для групп A и B с данными о посетителях\n",
    "visitorsA = visitors[visitors['group']=='A'].copy()\n",
    "visitorsB = visitors[visitors['group']=='B'].copy()\n",
    "\n",
    "# Объединение таблиц с кумулятивными данными о заказах и посетителях\n",
    "cumulativeData = cumulativeDataA.merge(cumulativeDataB, left_on='date', right_on='date', how='left', suffixes=['A', 'B'])\n",
    "cumulativeData = cumulativeData.merge(visitorsA, left_on='date', right_on='date', how='left')\n",
    "cumulativeData = cumulativeData.merge(visitorsB, left_on='date', right_on='date', how='left', suffixes=['A', 'B'])\n",
    "\n",
    "# Расчет кумулятивного среднего количества заказов на посетителя для каждой группы\n",
    "cumulativeData['orders_per_visitorA'] = cumulativeData['transactionIdA'] / cumulativeData['visitorsA']\n",
    "cumulativeData['orders_per_visitorB'] = cumulativeData['transactionIdB'] / cumulativeData['visitorsB']\n",
    "\n",
    "# Изменение размера графика\n",
    "plt.figure(figsize=(20, 6))\n",
    "\n",
    "# Построение графика кумулятивного среднего количества заказов на посетителя по группам\n",
    "plt.plot(cumulativeData['date'], cumulativeData['orders_per_visitorA'], label='A')\n",
    "plt.plot(cumulativeData['date'], cumulativeData['orders_per_visitorB'], label='B')\n",
    "\n",
    "# Добавление названия графика и подписей к осям\n",
    "plt.title('Кумулятивное среднее количество заказов на посетителя по группам')\n",
    "plt.xlabel('Дата')\n",
    "plt.ylabel('Среднее количество заказов на посетителя')\n",
    "\n",
    "plt.legend()\n",
    "plt.xticks(rotation=45)\n",
    "plt.show()"
   ]
  },
  {
   "cell_type": "markdown",
   "metadata": {},
   "source": [
    "На основе предоставленных данных можно сделать следующие выводы:\n",
    "\n",
    "Среднее количество заказов на посетителя в группе A и группе B колеблется в течение всего периода эксперимента.\n",
    "В начале эксперимента среднее количество заказов на посетителя в группе A было выше, чем в группе B. Однако, после 9 августа среднее количество заказов на посетителя в группе B стало превышать среднее количество заказов на посетителя в группе A.\n",
    "С 16 по 24 августа наблюдается резкий рост среднего количества заказов на посетителя в обеих группах. После этого значения снижаются и стабилизируются до конца эксперимента."
   ]
  },
  {
   "cell_type": "markdown",
   "metadata": {},
   "source": [
    "### **6) Постройте точечный график количества заказов по пользователям. Сделайте выводы и предположения.**"
   ]
  },
  {
   "cell_type": "code",
   "execution_count": 29,
   "metadata": {},
   "outputs": [
    {
     "data": {
      "image/png": "[encoded data removed]",
      "text/plain": [
       "<Figure size 720x432 with 1 Axes>"
      ]
     },
     "metadata": {
      "needs_background": "light"
     },
     "output_type": "display_data"
    }
   ],
   "source": [
    "# Группировка данных о заказах по пользователям\n",
    "ordersByUsers = orders.groupby('visitorId').agg({'transactionId': 'nunique'}).reset_index()\n",
    "\n",
    "# Изменение размера графика\n",
    "plt.figure(figsize=(10, 6))\n",
    "\n",
    "# Построение точечного графика количества заказов по пользователям\n",
    "plt.scatter(range(0, len(ordersByUsers)), ordersByUsers['transactionId'])\n",
    "\n",
    "# Добавление названия графика и подписей к осям\n",
    "plt.title('Количество заказов по пользователям')\n",
    "plt.xlabel('Пользователи')\n",
    "plt.ylabel('Количество заказов')\n",
    "\n",
    "plt.show()"
   ]
  },
  {
   "cell_type": "markdown",
   "metadata": {},
   "source": [
    " На графике действительно видно, что большинство пользователей делает заказы не более чем один раз. Однако также видно, что есть небольшое количество пользователей, совершивших от 2 до 8 заказов, и несколько пользователей, которые заказывали более 8 раз.\n",
    "\n",
    "Пользователи, совершившие более 8 заказов, могут быть названы аномальными. Возможно, это могут быть какие-то специфические типы пользователей или на них были сфокусированы маркетинговые кампании. Однако в любом случае необходимо анализировать данные этих пользователей более детально, чтобы определить, что их объединяет и почему они совершают столько заказов.\n",
    "\n",
    "Кроме того, следует отметить, что на графике нет явно выделенных выбросов или аномалий кроме упомянутых выше, и общее количество заказов у пользователей мало в сравнении с общим числом посетителей сайта."
   ]
  },
  {
   "cell_type": "markdown",
   "metadata": {},
   "source": [
    "**7) Посчитайте 95-й и 99-й перцентили количества заказов на пользователя. Выберите границу для определения аномальных пользователей.**"
   ]
  },
  {
   "cell_type": "code",
   "execution_count": 30,
   "metadata": {},
   "outputs": [
    {
     "name": "stdout",
     "output_type": "stream",
     "text": [
      "95-й перцентиль: 2.0\n",
      "99-й перцентиль: 4.0\n"
     ]
    }
   ],
   "source": [
    "# Группировка данных о заказах по пользователям\n",
    "ordersByUsers = orders.groupby('visitorId').agg({'transactionId': 'nunique'}).reset_index()\n",
    "\n",
    "# Расчет 95-го и 99-го перцентилей количества заказов на пользователя\n",
    "percentile_95 = np.percentile(ordersByUsers['transactionId'], 95)\n",
    "percentile_99 = np.percentile(ordersByUsers['transactionId'], 99)\n",
    "\n",
    "print('95-й перцентиль:', percentile_95)\n",
    "print('99-й перцентиль:', percentile_99)"
   ]
  },
  {
   "cell_type": "markdown",
   "metadata": {},
   "source": [
    "Выберем значение 99-го перцентиля в качестве границы. В этом случае будем считать аномальными тех пользователей, которые совершили более 4 заказов."
   ]
  },
  {
   "cell_type": "markdown",
   "metadata": {},
   "source": [
    "**8) Постройте точечный график стоимостей заказов. Сделайте выводы и предположения.**"
   ]
  },
  {
   "cell_type": "code",
   "execution_count": 31,
   "metadata": {},
   "outputs": [
    {
     "data": {
      "image/png": "[encoded data removed]",
      "text/plain": [
       "<Figure size 720x432 with 1 Axes>"
      ]
     },
     "metadata": {
      "needs_background": "light"
     },
     "output_type": "display_data"
    }
   ],
   "source": [
    "# Изменение размера графика\n",
    "plt.figure(figsize=(10, 6))\n",
    "\n",
    "# Построение точечного графика стоимостей заказов\n",
    "plt.scatter(range(0, len(orders)), orders['revenue'])\n",
    "\n",
    "# Добавление названия графика и подписей к осям\n",
    "plt.title('Стоимости заказов')\n",
    "plt.xlabel('Заказы')\n",
    "plt.ylabel('Стоимость')\n",
    "\n",
    "plt.show()"
   ]
  },
  {
   "cell_type": "markdown",
   "metadata": {},
   "source": [
    "На этом графике мы можем видеть, что большинство заказов имеют стоимость менее 0.1, а только два заказа имеют стоимость в диапазоне от 0.2 до 1.4.\n",
    "Такое неравномерное распределение стоимости может быть обусловлено разными факторами, например, спецификой товаров или услуг, которые продаются в рамках заказов, разными фреймворками ценообразования и маркетинговых акций, которые применялись в отношении этих заказов и т.д.\n"
   ]
  },
  {
   "cell_type": "markdown",
   "metadata": {},
   "source": [
    "**9) Посчитайте 95-й и 99-й перцентили стоимости заказов. Выберите границу для определения аномальных заказов.**"
   ]
  },
  {
   "cell_type": "code",
   "execution_count": 32,
   "metadata": {},
   "outputs": [
    {
     "name": "stdout",
     "output_type": "stream",
     "text": [
      "95-й перцентиль: 28000.000000000004\n",
      "99-й перцентиль: 58233.19999999999\n"
     ]
    }
   ],
   "source": [
    "# Расчет 95-го и 99-го перцентилей стоимости заказов\n",
    "percentile_95 = np.percentile(orders['revenue'], 95)\n",
    "percentile_99 = np.percentile(orders['revenue'], 99)\n",
    "\n",
    "print('95-й перцентиль:', percentile_95)\n",
    "print('99-й перцентиль:', percentile_99)"
   ]
  },
  {
   "cell_type": "markdown",
   "metadata": {},
   "source": [
    "Выберем значение 99-го перцентиля в качестве границы. В этом случае будем считать аномальными те заказы, которые имеют стоимость выше 58233.2."
   ]
  },
  {
   "cell_type": "markdown",
   "metadata": {},
   "source": [
    "**10) Посчитайте статистическую значимость различий в среднем количестве заказов на посетителя между группами по «сырым» данным. Сделайте выводы и предположения.**"
   ]
  },
  {
   "cell_type": "code",
   "execution_count": 33,
   "metadata": {},
   "outputs": [
    {
     "name": "stdout",
     "output_type": "stream",
     "text": [
      "Нулевая гипотеза: Среднее количество заказов на посетителя в группах A и B равно\n",
      "Альтернативная гипотеза: Среднее количество заказов на посетителя в группах A и B отличается\n",
      "P-value: 0.016792355056752608\n",
      "Статистически значимые различия\n",
      "Относительная разность показателей: 0.13807884655320146\n"
     ]
    }
   ],
   "source": [
    "# Формулировка нулевой и альтернативной гипотез\n",
    "print('Нулевая гипотеза: Среднее количество заказов на посетителя в группах A и B равно')\n",
    "print('Альтернативная гипотеза: Среднее количество заказов на посетителя в группах A и B отличается')\n",
    "\n",
    "# Группировка данных о заказах по пользователям\n",
    "ordersByUsersA = orders[orders['group']=='A'].groupby('visitorId').agg({'transactionId': 'nunique'}).reset_index()\n",
    "ordersByUsersB = orders[orders['group']=='B'].groupby('visitorId').agg({'transactionId': 'nunique'}).reset_index()\n",
    "\n",
    "# Создание выборок с количеством заказов на посетителя для каждой группы\n",
    "sampleA = pd.concat([ordersByUsersA['transactionId'], pd.Series(0, index=np.arange(visitors[visitors['group']=='A']['visitors'].sum() - len(ordersByUsersA['transactionId'])), name='orders')], axis=0)\n",
    "sampleB = pd.concat([ordersByUsersB['transactionId'], pd.Series(0, index=np.arange(visitors[visitors['group']=='B']['visitors'].sum() - len(ordersByUsersB['transactionId'])), name='orders')], axis=0)\n",
    "\n",
    "# Расчет статистической значимости различий в среднем количестве заказов на посетителя между группами\n",
    "p_value = stats.mannwhitneyu(sampleA, sampleB)[1]\n",
    "\n",
    "print('P-value:', p_value)\n",
    "\n",
    "if p_value < 0.05:\n",
    "    print('Статистически значимые различия')\n",
    "else:\n",
    "    print('Нет статистически значимых различий')\n",
    "    \n",
    "# Расчет относительной разности показателей\n",
    "relative_difference = sampleB.mean() / sampleA.mean() - 1\n",
    "\n",
    "print('Относительная разность показателей:', relative_difference)"
   ]
  },
  {
   "cell_type": "markdown",
   "metadata": {},
   "source": [
    "На основе предоставленных данных можно сделать следующие выводы:\n",
    "\n",
    "P-value равно 0.01679, что меньше общепринятого уровня значимости 0.05. Это означает, что мы можем отклонить нулевую гипотезу о равенстве среднего количества заказов на посетителя между группами и заключить, что есть статистически значимые различия в среднем количества заказов на посетителя между группами по «сырым» данным.\n",
    "Относительная разность показателей равна 0.138, что означает, что среднее количество заказов на посетителя в группе B на 13.8% выше, чем в группе A.\n",
    "На основе этих выводов можно предположить, что изменения, внесенные в группу B, привели к увеличению среднего количества заказов на посетителя по сравнению с группой A."
   ]
  },
  {
   "cell_type": "markdown",
   "metadata": {},
   "source": [
    "**11) Посчитайте статистическую значимость различий в среднем чеке заказа между группами по «сырым» данным. Сделайте выводы и предположения.**"
   ]
  },
  {
   "cell_type": "code",
   "execution_count": 34,
   "metadata": {},
   "outputs": [
    {
     "name": "stdout",
     "output_type": "stream",
     "text": [
      "Нулевая гипотеза: Средний чек заказа в группах A и B равен\n",
      "Альтернативная гипотеза: Средний чек заказа в группах A и B отличается\n",
      "P-value: 0.7292909855432458\n",
      "Нет статистически значимых различий\n",
      "Относительная разность показателей: 0.2587136699126005\n"
     ]
    }
   ],
   "source": [
    "# Формулировка нулевой и альтернативной гипотез\n",
    "print('Нулевая гипотеза: Средний чек заказа в группах A и B равен')\n",
    "print('Альтернативная гипотеза: Средний чек заказа в группах A и B отличается')\n",
    "\n",
    "# Создание выборок со стоимостями заказов для каждой группы\n",
    "sampleA = orders[orders['group']=='A']['revenue']\n",
    "sampleB = orders[orders['group']=='B']['revenue']\n",
    "\n",
    "# Расчет статистической значимости различий в среднем чеке заказа между группами\n",
    "p_value = stats.mannwhitneyu(sampleA, sampleB)[1]\n",
    "\n",
    "print('P-value:', p_value)\n",
    "\n",
    "if p_value < 0.05:\n",
    "    print('Статистически значимые различия')\n",
    "else:\n",
    "    print('Нет статистически значимых различий')\n",
    "    \n",
    "   # Расчет относительной разности показателей\n",
    "relative_difference = sampleB.mean() / sampleA.mean() - 1\n",
    "\n",
    "print('Относительная разность показателей:', relative_difference) "
   ]
  },
  {
   "cell_type": "markdown",
   "metadata": {},
   "source": [
    "На основе предоставленных данных можно сделать следующие выводы:\n",
    "\n",
    "P-value равно 0.729, что больше общепринятого уровня значимости 0.05. Это означает, что мы не можем отклонить нулевую гипотезу о равенстве среднего чека заказа между группами и заключить, что нет статистически значимых различий в среднем чеке заказа между группами по «сырым» данным.\n",
    "Относительная разность показателей равна 0.259, что означает, что средний чек заказа в группе B на 25.9% выше, чем в группе A.\n",
    "На основе этих выводов можно предположить, что изменения, внесенные в группу B, привели к увеличению среднего чека заказа по сравнению с группой A."
   ]
  },
  {
   "cell_type": "markdown",
   "metadata": {},
   "source": [
    "**12) Посчитайте статистическую значимость различий в среднем количестве заказов на посетителя между группами по «очищенным» данным. Сделайте выводы и предположения.**"
   ]
  },
  {
   "cell_type": "code",
   "execution_count": 35,
   "metadata": {},
   "outputs": [],
   "source": [
    "# Определение границы для определения аномальных пользователей по числу заказов\n",
    "orders_per_user_bound = np.percentile(ordersByUsers['transactionId'], 99)\n",
    "\n",
    "# Определение границы для определения аномальных пользователей по цене заказов\n",
    "order_price_bound = np.percentile(orders['revenue'], 99)\n",
    "\n",
    "# Определение аномальных пользователей\n",
    "abnormal_users = pd.concat([ordersByUsers[ordersByUsers['transactionId'] > orders_per_user_bound]['visitorId'], orders[orders['revenue'] > order_price_bound]['visitorId']]).drop_duplicates()"
   ]
  },
  {
   "cell_type": "code",
   "execution_count": 20,
   "metadata": {},
   "outputs": [
    {
     "name": "stdout",
     "output_type": "stream",
     "text": [
      "Нулевая гипотеза: Среднее количество заказов на посетителя в группах A и B равно\n",
      "Альтернативная гипотеза: Среднее количество заказов на посетителя в группах A и B отличается\n",
      "P-value: 0.015696760385049933\n",
      "Статистически значимые различия\n",
      "Относительная разность показателей: 0.14986667250316454\n"
     ]
    }
   ],
   "source": [
    "# Формулировка нулевой и альтернативной гипотез\n",
    "print('Нулевая гипотеза: Среднее количество заказов на посетителя в группах A и B равно')\n",
    "print('Альтернативная гипотеза: Среднее количество заказов на посетителя в группах A и B отличается')\n",
    "\n",
    "# Определение границы для определения аномальных пользователей\n",
    "orders_per_user_bound = np.percentile(ordersByUsers['transactionId'], 99)\n",
    "\n",
    "# Определение аномальных пользователей\n",
    "abnormal_users = ordersByUsers[ordersByUsers['transactionId'] > orders_per_user_bound]['visitorId']\n",
    "\n",
    "# Исключение аномальных пользователей из данных\n",
    "sampleAFiltered = pd.concat([ordersByUsersA[np.logical_not(ordersByUsersA['visitorId'].isin(abnormal_users))]['transactionId'], pd.Series(0, index=np.arange(visitors[visitors['group']=='A']['visitors'].sum() - len(ordersByUsersA['transactionId'])), name='orders')], axis=0)\n",
    "sampleBFiltered = pd.concat([ordersByUsersB[np.logical_not(ordersByUsersB['visitorId'].isin(abnormal_users))]['transactionId'], pd.Series(0, index=np.arange(visitors[visitors['group']=='B']['visitors'].sum() - len(ordersByUsersB['transactionId'])), name='orders')], axis=0)\n",
    "\n",
    "# Расчет статистической значимости различий в среднем количестве заказов на посетителя между группами\n",
    "p_value = stats.mannwhitneyu(sampleAFiltered, sampleBFiltered)[1]\n",
    "\n",
    "print('P-value:', p_value)\n",
    "\n",
    "if p_value < 0.05:\n",
    "    print('Статистически значимые различия')\n",
    "else:\n",
    "    print('Нет статистически значимых различий')\n",
    "    \n",
    "    # Расчет относительной разности показателей\n",
    "relative_difference = sampleBFiltered.mean() / sampleAFiltered.mean() - 1\n",
    "\n",
    "print('Относительная разность показателей:', relative_difference)"
   ]
  },
  {
   "cell_type": "markdown",
   "metadata": {},
   "source": [
    "На основе предоставленных данных можно сделать следующие выводы:\n",
    "\n",
    "P-value равно 0.0157, что меньше общепринятого уровня значимости 0.05. Это означает, что мы можем отклонить нулевую гипотезу о равенстве среднего количества заказов на посетителя между группами и заключить, что есть статистически значимые различия в среднем количества заказов на посетителя между группами по «очищенным» данным.\n",
    "Относительная разность показателей равна 0.150, что означает, что среднее количество заказов на посетителя в группе B на 15.0% выше, чем в группе A.\n",
    "На основе этих выводов можно предположить, что изменения, внесенные в группу B, привели к увеличению среднего количества заказов на посетителя по сравнению с группой A."
   ]
  },
  {
   "cell_type": "markdown",
   "metadata": {},
   "source": [
    "**13) Посчитайте статистическую значимость различий в среднем чеке заказа между группами по «очищенным» данным. Сделайте выводы и предположения.**"
   ]
  },
  {
   "cell_type": "code",
   "execution_count": 21,
   "metadata": {},
   "outputs": [],
   "source": [
    "# Определение границы для определения аномальных пользователей по числу заказов\n",
    "orders_per_user_bound = np.percentile(ordersByUsers['transactionId'], 99)\n",
    "\n",
    "# Определение границы для определения аномальных пользователей по цене заказов\n",
    "order_price_bound = np.percentile(orders['revenue'], 99)\n",
    "\n",
    "# Определение аномальных пользователей\n",
    "abnormal_users = pd.concat([ordersByUsers[ordersByUsers['transactionId'] > orders_per_user_bound]['visitorId'], orders[orders['revenue'] > order_price_bound]['visitorId']]).drop_duplicates()"
   ]
  },
  {
   "cell_type": "code",
   "execution_count": 22,
   "metadata": {},
   "outputs": [
    {
     "name": "stdout",
     "output_type": "stream",
     "text": [
      "Нулевая гипотеза: Средний чек заказа в группах A и B равен\n",
      "Альтернативная гипотеза: Средний чек заказа в группах A и B отличается\n",
      "P-value: 0.9575259546143828\n",
      "Нет статистически значимых различий\n",
      "Относительная разность показателей: -0.01416674043653432\n"
     ]
    }
   ],
   "source": [
    "# Формулировка нулевой и альтернативной гипотез\n",
    "print('Нулевая гипотеза: Средний чек заказа в группах A и B равен')\n",
    "print('Альтернативная гипотеза: Средний чек заказа в группах A и B отличается')\n",
    "\n",
    "# Определение границы для определения аномальных заказов\n",
    "order_revenue_bound = np.percentile(orders['revenue'], 99)\n",
    "\n",
    "# Исключение аномальных пользователей из данных\n",
    "sampleAFiltered = orders[np.logical_and(orders['group']=='A', np.logical_not(orders['visitorId'].isin(abnormal_users)))]['revenue']\n",
    "sampleBFiltered = orders[np.logical_and(orders['group']=='B', np.logical_not(orders['visitorId'].isin(abnormal_users)))]['revenue']\n",
    "\n",
    "# Расчет статистической значимости различий в среднем чеке заказа между группами\n",
    "p_value = stats.mannwhitneyu(sampleAFiltered, sampleBFiltered)[1]\n",
    "\n",
    "print('P-value:', p_value)\n",
    "\n",
    "if p_value < 0.05:\n",
    "    print('Статистически значимые различия')\n",
    "else:\n",
    "    print('Нет статистически значимых различий')\n",
    "\n",
    "# Расчет относительной разности показателей\n",
    "relative_difference = sampleBFiltered.mean() / sampleAFiltered.mean() - 1\n",
    "\n",
    "print('Относительная разность показателей:', relative_difference)"
   ]
  },
  {
   "cell_type": "markdown",
   "metadata": {},
   "source": [
    "На основе предоставленных данных можно сделать следующие выводы:\n",
    "\n",
    "P-value равно 0.958, что больше общепринятого уровня значимости 0.05. Это означает, что мы не можем отклонить нулевую гипотезу о равенстве среднего чека заказа между группами и заключить, что нет статистически значимых различий в среднем чеке заказа между группами по «очищенным» данным.\n",
    "Относительная разность показателей равна -0.0142, что означает, что средний чек заказа в группе B на 1.42% ниже, чем в группе A.\n",
    "На основе этих выводов можно предположить, что изменения, внесенные в группу B, не привели к значительному изменению среднего чека заказа по сравнению с группой A. "
   ]
  },
  {
   "cell_type": "markdown",
   "metadata": {},
   "source": [
    "**14) Примите решение по результатам теста и объясните его. Варианты решений:**\n",
    "1. Остановить тест, зафиксировать победу одной из групп.\n",
    "2. Остановить тест, зафиксировать отсутствие различий между группами.\n",
    "3. Продолжить тест."
   ]
  },
  {
   "cell_type": "markdown",
   "metadata": {},
   "source": [
    "На основе проведенного анализа можно сделать следующие выводы:\n",
    "\n",
    "Есть статистически значимые различия в среднем количестве заказов на посетителя между группами A и B как по «сырым», так и по «очищенным» данным. Среднее количество заказов на посетителя в группе B выше, чем в группе A.\n",
    "\n",
    "Нет статистически значимых различий в среднем чеке заказа между группами как по «сырым», так и по «очищенным» данным.\n",
    "\n",
    "На основе этих выводов можно принять решение остановить тест и зафиксировать победу группы B. Изменения, внесенные в группу B, привели к увеличению среднего количества заказов на посетителя по сравнению с группой A, что может привести к увеличению выручки. Однако, следует отметить, что изменения не привели к значительному изменению среднего чека заказа.\n",
    "\n",
    "Конечно, решение о том, как действовать дальше, зависит от целей и стратегии компании. Если целью является увеличение количества заказов, то можно рассмотреть возможность внедрения изменений из группы B. Если же целью является увеличение среднего чека заказа, то возможно стоит продолжить тест или провести дополнительные исследования."
   ]
  }
 ],
 "metadata": {
  "ExecuteTimeLog": [
   {
    "duration": 524,
    "start_time": "2023-06-20T18:35:11.711Z"
   },
   {
    "duration": 30,
    "start_time": "2023-06-20T18:35:20.551Z"
   },
   {
    "duration": 8,
    "start_time": "2023-06-20T18:37:47.528Z"
   },
   {
    "duration": 31,
    "start_time": "2023-06-20T18:44:42.138Z"
   },
   {
    "duration": 484,
    "start_time": "2023-06-20T18:44:53.493Z"
   },
   {
    "duration": 9,
    "start_time": "2023-06-20T18:44:53.979Z"
   },
   {
    "duration": 46,
    "start_time": "2023-06-20T18:44:53.990Z"
   },
   {
    "duration": 57,
    "start_time": "2023-06-20T18:44:54.038Z"
   },
   {
    "duration": 1695,
    "start_time": "2023-06-20T18:47:10.633Z"
   },
   {
    "duration": 433,
    "start_time": "2023-06-20T18:47:21.336Z"
   },
   {
    "duration": 1597,
    "start_time": "2023-06-20T18:47:21.771Z"
   },
   {
    "duration": 0,
    "start_time": "2023-06-20T18:47:23.370Z"
   },
   {
    "duration": 1,
    "start_time": "2023-06-20T18:47:23.373Z"
   },
   {
    "duration": 1538,
    "start_time": "2023-06-20T18:47:54.810Z"
   },
   {
    "duration": 1597,
    "start_time": "2023-06-20T18:50:04.777Z"
   },
   {
    "duration": 405,
    "start_time": "2023-06-20T18:51:07.457Z"
   },
   {
    "duration": 1630,
    "start_time": "2023-06-20T18:51:07.863Z"
   },
   {
    "duration": 1,
    "start_time": "2023-06-20T18:51:09.495Z"
   },
   {
    "duration": 0,
    "start_time": "2023-06-20T18:51:09.496Z"
   },
   {
    "duration": 30,
    "start_time": "2023-06-20T18:52:53.790Z"
   },
   {
    "duration": 458,
    "start_time": "2023-06-20T18:53:09.743Z"
   },
   {
    "duration": 6,
    "start_time": "2023-06-20T18:53:10.203Z"
   },
   {
    "duration": 6,
    "start_time": "2023-06-20T18:53:10.210Z"
   },
   {
    "duration": 448,
    "start_time": "2023-06-20T18:53:53.121Z"
   },
   {
    "duration": 7,
    "start_time": "2023-06-20T18:53:53.573Z"
   },
   {
    "duration": 7,
    "start_time": "2023-06-20T18:53:53.582Z"
   },
   {
    "duration": 84,
    "start_time": "2023-06-20T18:53:53.590Z"
   },
   {
    "duration": 488,
    "start_time": "2023-06-20T18:54:33.605Z"
   },
   {
    "duration": 9,
    "start_time": "2023-06-20T18:54:34.095Z"
   },
   {
    "duration": 15,
    "start_time": "2023-06-20T18:54:34.105Z"
   },
   {
    "duration": 68,
    "start_time": "2023-06-20T18:54:34.130Z"
   },
   {
    "duration": 404,
    "start_time": "2023-06-20T18:56:01.247Z"
   },
   {
    "duration": 13,
    "start_time": "2023-06-20T18:56:01.653Z"
   },
   {
    "duration": 68,
    "start_time": "2023-06-20T18:56:01.668Z"
   },
   {
    "duration": 69,
    "start_time": "2023-06-20T18:56:01.741Z"
   },
   {
    "duration": 10,
    "start_time": "2023-06-20T18:59:47.362Z"
   },
   {
    "duration": 434,
    "start_time": "2023-06-20T18:59:56.309Z"
   },
   {
    "duration": 7,
    "start_time": "2023-06-20T18:59:56.746Z"
   },
   {
    "duration": 48,
    "start_time": "2023-06-20T18:59:56.755Z"
   },
   {
    "duration": 65,
    "start_time": "2023-06-20T18:59:56.805Z"
   },
   {
    "duration": 470,
    "start_time": "2023-06-20T19:03:38.290Z"
   },
   {
    "duration": 8,
    "start_time": "2023-06-20T19:03:38.762Z"
   },
   {
    "duration": 354,
    "start_time": "2023-06-20T19:03:38.772Z"
   },
   {
    "duration": 169,
    "start_time": "2023-06-20T19:03:39.128Z"
   },
   {
    "duration": 465,
    "start_time": "2023-06-20T19:04:13.229Z"
   },
   {
    "duration": 9,
    "start_time": "2023-06-20T19:04:13.697Z"
   },
   {
    "duration": 34,
    "start_time": "2023-06-20T19:04:13.708Z"
   },
   {
    "duration": 16,
    "start_time": "2023-06-20T19:04:13.745Z"
   },
   {
    "duration": 399,
    "start_time": "2023-06-20T19:05:07.155Z"
   },
   {
    "duration": 8,
    "start_time": "2023-06-20T19:05:07.557Z"
   },
   {
    "duration": 16,
    "start_time": "2023-06-20T19:05:07.567Z"
   },
   {
    "duration": 28,
    "start_time": "2023-06-20T19:05:07.586Z"
   },
   {
    "duration": 100,
    "start_time": "2023-06-20T19:05:07.616Z"
   },
   {
    "duration": 463,
    "start_time": "2023-06-20T19:05:16.030Z"
   },
   {
    "duration": 6,
    "start_time": "2023-06-20T19:05:16.495Z"
   },
   {
    "duration": 19,
    "start_time": "2023-06-20T19:05:16.503Z"
   },
   {
    "duration": 45,
    "start_time": "2023-06-20T19:05:16.524Z"
   },
   {
    "duration": 462,
    "start_time": "2023-06-20T19:05:28.500Z"
   },
   {
    "duration": 6,
    "start_time": "2023-06-20T19:05:28.964Z"
   },
   {
    "duration": 21,
    "start_time": "2023-06-20T19:05:28.972Z"
   },
   {
    "duration": 17,
    "start_time": "2023-06-20T19:05:28.995Z"
   },
   {
    "duration": 450,
    "start_time": "2023-06-20T19:06:17.344Z"
   },
   {
    "duration": 6,
    "start_time": "2023-06-20T19:06:17.796Z"
   },
   {
    "duration": 10,
    "start_time": "2023-06-20T19:06:17.804Z"
   },
   {
    "duration": 18,
    "start_time": "2023-06-20T19:06:17.816Z"
   },
   {
    "duration": 172,
    "start_time": "2023-06-20T19:14:51.694Z"
   },
   {
    "duration": 472,
    "start_time": "2023-06-20T19:15:22.899Z"
   },
   {
    "duration": 7,
    "start_time": "2023-06-20T19:15:23.373Z"
   },
   {
    "duration": 20,
    "start_time": "2023-06-20T19:15:23.382Z"
   },
   {
    "duration": 40,
    "start_time": "2023-06-20T19:15:23.404Z"
   },
   {
    "duration": 127,
    "start_time": "2023-06-20T19:15:23.446Z"
   },
   {
    "duration": 950,
    "start_time": "2023-06-20T19:16:06.933Z"
   },
   {
    "duration": 33,
    "start_time": "2023-06-20T19:16:07.886Z"
   },
   {
    "duration": 10,
    "start_time": "2023-06-20T19:16:07.920Z"
   },
   {
    "duration": 6,
    "start_time": "2023-06-20T19:16:07.933Z"
   },
   {
    "duration": 17,
    "start_time": "2023-06-20T19:16:07.941Z"
   },
   {
    "duration": 134,
    "start_time": "2023-06-20T19:16:07.959Z"
   },
   {
    "duration": 718,
    "start_time": "2023-06-20T19:17:04.442Z"
   },
   {
    "duration": 30,
    "start_time": "2023-06-20T19:17:05.162Z"
   },
   {
    "duration": 41,
    "start_time": "2023-06-20T19:17:05.194Z"
   },
   {
    "duration": 116,
    "start_time": "2023-06-20T19:17:05.237Z"
   },
   {
    "duration": 1282,
    "start_time": "2023-06-20T19:17:05.356Z"
   },
   {
    "duration": 1018,
    "start_time": "2023-06-20T19:17:06.640Z"
   },
   {
    "duration": 495,
    "start_time": "2023-06-20T19:24:42.944Z"
   },
   {
    "duration": 534,
    "start_time": "2023-06-20T19:25:05.202Z"
   },
   {
    "duration": 718,
    "start_time": "2023-06-20T19:25:19.599Z"
   },
   {
    "duration": 7,
    "start_time": "2023-06-20T19:28:08.471Z"
   },
   {
    "duration": 272,
    "start_time": "2023-06-20T19:33:53.044Z"
   },
   {
    "duration": 657,
    "start_time": "2023-06-20T19:34:06.596Z"
   },
   {
    "duration": 32,
    "start_time": "2023-06-20T19:34:07.256Z"
   },
   {
    "duration": 10,
    "start_time": "2023-06-20T19:34:07.292Z"
   },
   {
    "duration": 8,
    "start_time": "2023-06-20T19:34:07.304Z"
   },
   {
    "duration": 24,
    "start_time": "2023-06-20T19:34:07.315Z"
   },
   {
    "duration": 697,
    "start_time": "2023-06-20T19:34:07.342Z"
   },
   {
    "duration": 336,
    "start_time": "2023-06-20T19:34:08.044Z"
   },
   {
    "duration": 278,
    "start_time": "2023-06-20T19:35:10.154Z"
   },
   {
    "duration": 360,
    "start_time": "2023-06-20T19:35:24.796Z"
   },
   {
    "duration": 80,
    "start_time": "2023-06-20T19:37:03.691Z"
   },
   {
    "duration": 14,
    "start_time": "2023-06-20T19:37:49.632Z"
   },
   {
    "duration": 648,
    "start_time": "2023-06-20T19:37:57.238Z"
   },
   {
    "duration": 32,
    "start_time": "2023-06-20T19:37:57.887Z"
   },
   {
    "duration": 10,
    "start_time": "2023-06-20T19:37:57.921Z"
   },
   {
    "duration": 36,
    "start_time": "2023-06-20T19:37:57.932Z"
   },
   {
    "duration": 59,
    "start_time": "2023-06-20T19:37:57.970Z"
   },
   {
    "duration": 576,
    "start_time": "2023-06-20T19:37:58.031Z"
   },
   {
    "duration": 108,
    "start_time": "2023-06-20T19:37:58.614Z"
   },
   {
    "duration": 0,
    "start_time": "2023-06-20T19:37:58.724Z"
   },
   {
    "duration": 272,
    "start_time": "2023-06-20T19:39:27.887Z"
   },
   {
    "duration": 346,
    "start_time": "2023-06-20T19:42:08.444Z"
   },
   {
    "duration": 468,
    "start_time": "2023-06-20T19:42:22.454Z"
   },
   {
    "duration": 23,
    "start_time": "2023-06-20T19:48:49.999Z"
   },
   {
    "duration": 17,
    "start_time": "2023-06-20T19:59:46.605Z"
   },
   {
    "duration": 851,
    "start_time": "2023-06-20T20:04:07.664Z"
   },
   {
    "duration": 56,
    "start_time": "2023-06-20T20:04:08.517Z"
   },
   {
    "duration": 8,
    "start_time": "2023-06-20T20:04:08.575Z"
   },
   {
    "duration": 8,
    "start_time": "2023-06-20T20:04:08.585Z"
   },
   {
    "duration": 16,
    "start_time": "2023-06-20T20:04:08.595Z"
   },
   {
    "duration": 762,
    "start_time": "2023-06-20T20:04:08.616Z"
   },
   {
    "duration": 466,
    "start_time": "2023-06-20T20:04:09.381Z"
   },
   {
    "duration": 744,
    "start_time": "2023-06-20T20:04:35.580Z"
   },
   {
    "duration": 49,
    "start_time": "2023-06-20T20:04:36.327Z"
   },
   {
    "duration": 6,
    "start_time": "2023-06-20T20:04:36.379Z"
   },
   {
    "duration": 14,
    "start_time": "2023-06-20T20:04:36.388Z"
   },
   {
    "duration": 36,
    "start_time": "2023-06-20T20:04:36.404Z"
   },
   {
    "duration": 682,
    "start_time": "2023-06-20T20:04:36.443Z"
   },
   {
    "duration": 381,
    "start_time": "2023-06-20T20:04:37.127Z"
   },
   {
    "duration": 422,
    "start_time": "2023-06-20T20:07:36.709Z"
   },
   {
    "duration": 478,
    "start_time": "2023-06-20T20:07:49.440Z"
   },
   {
    "duration": 17,
    "start_time": "2023-06-20T20:10:33.954Z"
   },
   {
    "duration": 384,
    "start_time": "2023-06-20T21:07:05.712Z"
   },
   {
    "duration": 14,
    "start_time": "2023-06-20T21:09:43.673Z"
   },
   {
    "duration": 481,
    "start_time": "2023-06-20T21:13:51.325Z"
   },
   {
    "duration": 34,
    "start_time": "2023-06-20T21:15:32.411Z"
   },
   {
    "duration": 12,
    "start_time": "2023-06-20T21:18:47.480Z"
   },
   {
    "duration": 105,
    "start_time": "2023-06-20T21:22:57.751Z"
   },
   {
    "duration": 12,
    "start_time": "2023-06-20T21:23:03.770Z"
   },
   {
    "duration": 14,
    "start_time": "2023-06-20T21:24:42.707Z"
   },
   {
    "duration": 165,
    "start_time": "2023-06-20T21:28:35.980Z"
   },
   {
    "duration": 22,
    "start_time": "2023-06-20T21:29:15.049Z"
   },
   {
    "duration": 16,
    "start_time": "2023-06-20T21:32:54.805Z"
   },
   {
    "duration": 3,
    "start_time": "2023-06-20T21:33:58.735Z"
   },
   {
    "duration": 21,
    "start_time": "2023-06-20T21:34:46.398Z"
   },
   {
    "duration": 810,
    "start_time": "2023-06-20T21:34:56.638Z"
   },
   {
    "duration": 97,
    "start_time": "2023-06-20T21:34:57.455Z"
   },
   {
    "duration": 9,
    "start_time": "2023-06-20T21:34:57.554Z"
   },
   {
    "duration": 26,
    "start_time": "2023-06-20T21:34:57.565Z"
   },
   {
    "duration": 47,
    "start_time": "2023-06-20T21:34:57.594Z"
   },
   {
    "duration": 785,
    "start_time": "2023-06-20T21:34:57.643Z"
   },
   {
    "duration": 398,
    "start_time": "2023-06-20T21:34:58.430Z"
   },
   {
    "duration": 535,
    "start_time": "2023-06-20T21:34:58.830Z"
   },
   {
    "duration": 462,
    "start_time": "2023-06-20T21:34:59.367Z"
   },
   {
    "duration": 572,
    "start_time": "2023-06-20T21:34:59.831Z"
   },
   {
    "duration": 185,
    "start_time": "2023-06-20T21:35:00.408Z"
   },
   {
    "duration": 19,
    "start_time": "2023-06-20T21:35:00.595Z"
   },
   {
    "duration": 11,
    "start_time": "2023-06-20T21:59:53.070Z"
   },
   {
    "duration": 166,
    "start_time": "2023-06-20T22:03:40.913Z"
   },
   {
    "duration": 217,
    "start_time": "2023-06-20T22:04:59.809Z"
   },
   {
    "duration": 8,
    "start_time": "2023-06-20T22:12:26.938Z"
   },
   {
    "duration": 95,
    "start_time": "2023-06-20T22:15:41.770Z"
   },
   {
    "duration": 90,
    "start_time": "2023-06-20T22:17:46.641Z"
   },
   {
    "duration": 659,
    "start_time": "2023-06-20T22:17:52.401Z"
   },
   {
    "duration": 30,
    "start_time": "2023-06-20T22:17:53.062Z"
   },
   {
    "duration": 6,
    "start_time": "2023-06-20T22:17:53.094Z"
   },
   {
    "duration": 20,
    "start_time": "2023-06-20T22:17:53.102Z"
   },
   {
    "duration": 19,
    "start_time": "2023-06-20T22:17:53.125Z"
   },
   {
    "duration": 578,
    "start_time": "2023-06-20T22:17:53.145Z"
   },
   {
    "duration": 320,
    "start_time": "2023-06-20T22:17:53.732Z"
   },
   {
    "duration": 383,
    "start_time": "2023-06-20T22:17:54.054Z"
   },
   {
    "duration": 334,
    "start_time": "2023-06-20T22:17:54.439Z"
   },
   {
    "duration": 441,
    "start_time": "2023-06-20T22:17:54.776Z"
   },
   {
    "duration": 137,
    "start_time": "2023-06-20T22:17:55.221Z"
   },
   {
    "duration": 9,
    "start_time": "2023-06-20T22:17:55.359Z"
   },
   {
    "duration": 167,
    "start_time": "2023-06-20T22:17:55.369Z"
   },
   {
    "duration": 7,
    "start_time": "2023-06-20T22:17:55.538Z"
   },
   {
    "duration": 162,
    "start_time": "2023-06-20T22:17:55.547Z"
   },
   {
    "duration": 43,
    "start_time": "2023-06-20T22:18:57.668Z"
   },
   {
    "duration": 1131,
    "start_time": "2023-06-20T22:19:03.798Z"
   },
   {
    "duration": 32,
    "start_time": "2023-06-20T22:19:04.931Z"
   },
   {
    "duration": 6,
    "start_time": "2023-06-20T22:19:04.965Z"
   },
   {
    "duration": 22,
    "start_time": "2023-06-20T22:19:04.973Z"
   },
   {
    "duration": 22,
    "start_time": "2023-06-20T22:19:04.997Z"
   },
   {
    "duration": 548,
    "start_time": "2023-06-20T22:19:05.023Z"
   },
   {
    "duration": 331,
    "start_time": "2023-06-20T22:19:05.573Z"
   },
   {
    "duration": 433,
    "start_time": "2023-06-20T22:19:05.906Z"
   },
   {
    "duration": 329,
    "start_time": "2023-06-20T22:19:06.341Z"
   },
   {
    "duration": 425,
    "start_time": "2023-06-20T22:19:06.673Z"
   },
   {
    "duration": 146,
    "start_time": "2023-06-20T22:19:07.100Z"
   },
   {
    "duration": 10,
    "start_time": "2023-06-20T22:19:07.248Z"
   },
   {
    "duration": 166,
    "start_time": "2023-06-20T22:19:07.259Z"
   },
   {
    "duration": 6,
    "start_time": "2023-06-20T22:19:07.431Z"
   },
   {
    "duration": 61,
    "start_time": "2023-06-20T22:19:07.439Z"
   },
   {
    "duration": 13,
    "start_time": "2023-06-20T22:23:25.905Z"
   },
   {
    "duration": 33,
    "start_time": "2023-06-20T22:28:28.418Z"
   },
   {
    "duration": 21,
    "start_time": "2023-06-20T22:31:47.612Z"
   },
   {
    "duration": 1174,
    "start_time": "2023-06-20T22:34:01.006Z"
   },
   {
    "duration": 44,
    "start_time": "2023-06-20T22:34:02.183Z"
   },
   {
    "duration": 199,
    "start_time": "2023-06-20T22:34:02.229Z"
   },
   {
    "duration": 46,
    "start_time": "2023-06-20T22:34:02.437Z"
   },
   {
    "duration": 93,
    "start_time": "2023-06-20T22:34:02.484Z"
   },
   {
    "duration": 598,
    "start_time": "2023-06-20T22:34:02.579Z"
   },
   {
    "duration": 350,
    "start_time": "2023-06-20T22:34:03.179Z"
   },
   {
    "duration": 440,
    "start_time": "2023-06-20T22:34:03.535Z"
   },
   {
    "duration": 369,
    "start_time": "2023-06-20T22:34:03.977Z"
   },
   {
    "duration": 394,
    "start_time": "2023-06-20T22:34:04.349Z"
   },
   {
    "duration": 146,
    "start_time": "2023-06-20T22:34:04.745Z"
   },
   {
    "duration": 25,
    "start_time": "2023-06-20T22:34:04.894Z"
   },
   {
    "duration": 157,
    "start_time": "2023-06-20T22:34:04.923Z"
   },
   {
    "duration": 5,
    "start_time": "2023-06-20T22:34:05.083Z"
   },
   {
    "duration": 81,
    "start_time": "2023-06-20T22:34:05.090Z"
   },
   {
    "duration": 12,
    "start_time": "2023-06-20T22:34:05.173Z"
   },
   {
    "duration": 78,
    "start_time": "2023-06-20T22:34:05.187Z"
   },
   {
    "duration": 16,
    "start_time": "2023-06-20T22:34:05.267Z"
   },
   {
    "duration": 1189,
    "start_time": "2023-06-20T22:39:49.561Z"
   },
   {
    "duration": 31,
    "start_time": "2023-06-20T22:39:50.755Z"
   },
   {
    "duration": 124,
    "start_time": "2023-06-20T22:39:50.788Z"
   },
   {
    "duration": 101,
    "start_time": "2023-06-20T22:39:50.916Z"
   },
   {
    "duration": 60,
    "start_time": "2023-06-20T22:39:51.019Z"
   },
   {
    "duration": 585,
    "start_time": "2023-06-20T22:39:51.081Z"
   },
   {
    "duration": 331,
    "start_time": "2023-06-20T22:39:51.668Z"
   },
   {
    "duration": 432,
    "start_time": "2023-06-20T22:39:52.000Z"
   },
   {
    "duration": 346,
    "start_time": "2023-06-20T22:39:52.435Z"
   },
   {
    "duration": 449,
    "start_time": "2023-06-20T22:39:52.784Z"
   },
   {
    "duration": 144,
    "start_time": "2023-06-20T22:39:53.235Z"
   },
   {
    "duration": 9,
    "start_time": "2023-06-20T22:39:53.381Z"
   },
   {
    "duration": 171,
    "start_time": "2023-06-20T22:39:53.392Z"
   },
   {
    "duration": 7,
    "start_time": "2023-06-20T22:39:53.565Z"
   },
   {
    "duration": 79,
    "start_time": "2023-06-20T22:39:53.574Z"
   },
   {
    "duration": 12,
    "start_time": "2023-06-20T22:39:53.655Z"
   },
   {
    "duration": 136,
    "start_time": "2023-06-20T22:39:53.669Z"
   },
   {
    "duration": 73,
    "start_time": "2023-06-20T22:39:53.806Z"
   },
   {
    "duration": 1217,
    "start_time": "2023-06-21T08:21:38.507Z"
   },
   {
    "duration": 71,
    "start_time": "2023-06-21T08:21:39.726Z"
   },
   {
    "duration": 7,
    "start_time": "2023-06-21T08:21:39.798Z"
   },
   {
    "duration": 4,
    "start_time": "2023-06-21T08:21:39.807Z"
   },
   {
    "duration": 13,
    "start_time": "2023-06-21T08:21:39.813Z"
   },
   {
    "duration": 537,
    "start_time": "2023-06-21T08:21:39.828Z"
   },
   {
    "duration": 283,
    "start_time": "2023-06-21T08:21:40.366Z"
   },
   {
    "duration": 476,
    "start_time": "2023-06-21T08:21:40.651Z"
   },
   {
    "duration": 279,
    "start_time": "2023-06-21T08:21:41.128Z"
   },
   {
    "duration": 338,
    "start_time": "2023-06-21T08:21:41.409Z"
   },
   {
    "duration": 121,
    "start_time": "2023-06-21T08:21:41.748Z"
   },
   {
    "duration": 7,
    "start_time": "2023-06-21T08:21:41.871Z"
   },
   {
    "duration": 130,
    "start_time": "2023-06-21T08:21:41.879Z"
   },
   {
    "duration": 5,
    "start_time": "2023-06-21T08:21:42.010Z"
   },
   {
    "duration": 102,
    "start_time": "2023-06-21T08:21:42.016Z"
   },
   {
    "duration": 9,
    "start_time": "2023-06-21T08:21:42.119Z"
   },
   {
    "duration": 29,
    "start_time": "2023-06-21T08:21:42.130Z"
   },
   {
    "duration": 10,
    "start_time": "2023-06-21T08:21:42.161Z"
   },
   {
    "duration": 19,
    "start_time": "2023-06-21T08:32:42.656Z"
   },
   {
    "duration": 1233,
    "start_time": "2023-06-21T18:39:38.890Z"
   },
   {
    "duration": 64,
    "start_time": "2023-06-21T18:39:40.125Z"
   },
   {
    "duration": 7,
    "start_time": "2023-06-21T18:39:40.191Z"
   },
   {
    "duration": 17,
    "start_time": "2023-06-21T18:39:40.200Z"
   },
   {
    "duration": 34,
    "start_time": "2023-06-21T18:39:40.219Z"
   },
   {
    "duration": 648,
    "start_time": "2023-06-21T18:39:40.254Z"
   },
   {
    "duration": 314,
    "start_time": "2023-06-21T18:39:40.904Z"
   },
   {
    "duration": 470,
    "start_time": "2023-06-21T18:39:41.220Z"
   },
   {
    "duration": 314,
    "start_time": "2023-06-21T18:39:41.692Z"
   },
   {
    "duration": 406,
    "start_time": "2023-06-21T18:39:42.008Z"
   },
   {
    "duration": 175,
    "start_time": "2023-06-21T18:39:42.416Z"
   },
   {
    "duration": 12,
    "start_time": "2023-06-21T18:39:42.593Z"
   },
   {
    "duration": 183,
    "start_time": "2023-06-21T18:39:42.607Z"
   },
   {
    "duration": 6,
    "start_time": "2023-06-21T18:39:42.793Z"
   },
   {
    "duration": 109,
    "start_time": "2023-06-21T18:39:42.801Z"
   },
   {
    "duration": 48,
    "start_time": "2023-06-21T18:39:42.912Z"
   },
   {
    "duration": 50,
    "start_time": "2023-06-21T18:39:42.962Z"
   },
   {
    "duration": 11,
    "start_time": "2023-06-21T18:39:43.014Z"
   },
   {
    "duration": 105,
    "start_time": "2023-06-21T18:45:36.792Z"
   },
   {
    "duration": 523,
    "start_time": "2023-06-21T18:49:45.625Z"
   },
   {
    "duration": 397,
    "start_time": "2023-06-21T18:51:58.053Z"
   },
   {
    "duration": 452,
    "start_time": "2023-06-21T18:52:57.547Z"
   },
   {
    "duration": 326,
    "start_time": "2023-06-21T18:54:45.629Z"
   },
   {
    "duration": 430,
    "start_time": "2023-06-21T18:56:08.952Z"
   },
   {
    "duration": 146,
    "start_time": "2023-06-21T18:57:31.592Z"
   },
   {
    "duration": 154,
    "start_time": "2023-06-21T18:58:48.829Z"
   },
   {
    "duration": 106,
    "start_time": "2023-06-21T19:05:26.596Z"
   },
   {
    "duration": 918,
    "start_time": "2023-06-21T19:06:47.153Z"
   },
   {
    "duration": 1125,
    "start_time": "2023-06-21T19:10:29.745Z"
   },
   {
    "duration": 30,
    "start_time": "2023-06-21T19:10:30.872Z"
   },
   {
    "duration": 118,
    "start_time": "2023-06-21T19:10:30.904Z"
   },
   {
    "duration": 65,
    "start_time": "2023-06-21T19:10:31.025Z"
   },
   {
    "duration": 78,
    "start_time": "2023-06-21T19:10:31.092Z"
   },
   {
    "duration": 121,
    "start_time": "2023-06-21T19:10:31.172Z"
   },
   {
    "duration": 571,
    "start_time": "2023-06-21T19:10:31.295Z"
   },
   {
    "duration": 712,
    "start_time": "2023-06-21T19:10:31.868Z"
   },
   {
    "duration": 806,
    "start_time": "2023-06-21T19:10:32.582Z"
   },
   {
    "duration": 532,
    "start_time": "2023-06-21T19:10:33.391Z"
   },
   {
    "duration": 1181,
    "start_time": "2023-06-21T19:10:33.925Z"
   },
   {
    "duration": 0,
    "start_time": "2023-06-21T19:10:35.108Z"
   },
   {
    "duration": 0,
    "start_time": "2023-06-21T19:10:35.110Z"
   },
   {
    "duration": 0,
    "start_time": "2023-06-21T19:10:35.111Z"
   },
   {
    "duration": 0,
    "start_time": "2023-06-21T19:10:35.112Z"
   },
   {
    "duration": 0,
    "start_time": "2023-06-21T19:10:35.113Z"
   },
   {
    "duration": 0,
    "start_time": "2023-06-21T19:10:35.114Z"
   },
   {
    "duration": 0,
    "start_time": "2023-06-21T19:10:35.115Z"
   },
   {
    "duration": 0,
    "start_time": "2023-06-21T19:10:35.116Z"
   },
   {
    "duration": 1163,
    "start_time": "2023-06-21T19:16:25.060Z"
   },
   {
    "duration": 30,
    "start_time": "2023-06-21T19:16:26.226Z"
   },
   {
    "duration": 7,
    "start_time": "2023-06-21T19:16:26.258Z"
   },
   {
    "duration": 22,
    "start_time": "2023-06-21T19:16:26.267Z"
   },
   {
    "duration": 28,
    "start_time": "2023-06-21T19:16:26.291Z"
   },
   {
    "duration": 158,
    "start_time": "2023-06-21T19:16:26.321Z"
   },
   {
    "duration": 0,
    "start_time": "2023-06-21T19:16:26.482Z"
   },
   {
    "duration": 0,
    "start_time": "2023-06-21T19:16:26.483Z"
   },
   {
    "duration": 0,
    "start_time": "2023-06-21T19:16:26.485Z"
   },
   {
    "duration": 0,
    "start_time": "2023-06-21T19:16:26.486Z"
   },
   {
    "duration": 0,
    "start_time": "2023-06-21T19:16:26.487Z"
   },
   {
    "duration": 0,
    "start_time": "2023-06-21T19:16:26.489Z"
   },
   {
    "duration": 0,
    "start_time": "2023-06-21T19:16:26.490Z"
   },
   {
    "duration": 0,
    "start_time": "2023-06-21T19:16:26.491Z"
   },
   {
    "duration": 0,
    "start_time": "2023-06-21T19:16:26.493Z"
   },
   {
    "duration": 0,
    "start_time": "2023-06-21T19:16:26.494Z"
   },
   {
    "duration": 0,
    "start_time": "2023-06-21T19:16:26.495Z"
   },
   {
    "duration": 0,
    "start_time": "2023-06-21T19:16:26.496Z"
   },
   {
    "duration": 0,
    "start_time": "2023-06-21T19:16:26.497Z"
   },
   {
    "duration": 11,
    "start_time": "2023-06-21T19:16:54.746Z"
   },
   {
    "duration": 10,
    "start_time": "2023-06-21T19:21:06.120Z"
   },
   {
    "duration": 1115,
    "start_time": "2023-06-21T19:21:19.608Z"
   },
   {
    "duration": 31,
    "start_time": "2023-06-21T19:21:20.725Z"
   },
   {
    "duration": 7,
    "start_time": "2023-06-21T19:21:20.757Z"
   },
   {
    "duration": 9,
    "start_time": "2023-06-21T19:21:20.765Z"
   },
   {
    "duration": 37,
    "start_time": "2023-06-21T19:21:20.777Z"
   },
   {
    "duration": 152,
    "start_time": "2023-06-21T19:21:20.816Z"
   },
   {
    "duration": 0,
    "start_time": "2023-06-21T19:21:20.971Z"
   },
   {
    "duration": 0,
    "start_time": "2023-06-21T19:21:20.972Z"
   },
   {
    "duration": 0,
    "start_time": "2023-06-21T19:21:20.973Z"
   },
   {
    "duration": 0,
    "start_time": "2023-06-21T19:21:20.974Z"
   },
   {
    "duration": 0,
    "start_time": "2023-06-21T19:21:20.975Z"
   },
   {
    "duration": 0,
    "start_time": "2023-06-21T19:21:20.977Z"
   },
   {
    "duration": 0,
    "start_time": "2023-06-21T19:21:20.978Z"
   },
   {
    "duration": 0,
    "start_time": "2023-06-21T19:21:20.979Z"
   },
   {
    "duration": 0,
    "start_time": "2023-06-21T19:21:20.980Z"
   },
   {
    "duration": 0,
    "start_time": "2023-06-21T19:21:20.981Z"
   },
   {
    "duration": 0,
    "start_time": "2023-06-21T19:21:20.982Z"
   },
   {
    "duration": 0,
    "start_time": "2023-06-21T19:21:20.983Z"
   },
   {
    "duration": 0,
    "start_time": "2023-06-21T19:21:20.984Z"
   },
   {
    "duration": 11,
    "start_time": "2023-06-21T19:21:36.055Z"
   },
   {
    "duration": 11,
    "start_time": "2023-06-21T19:21:48.389Z"
   },
   {
    "duration": 12,
    "start_time": "2023-06-21T19:21:53.777Z"
   },
   {
    "duration": 560,
    "start_time": "2023-06-21T19:22:06.617Z"
   },
   {
    "duration": 338,
    "start_time": "2023-06-21T19:22:17.518Z"
   },
   {
    "duration": 472,
    "start_time": "2023-06-21T19:22:22.350Z"
   },
   {
    "duration": 326,
    "start_time": "2023-06-21T19:22:27.215Z"
   },
   {
    "duration": 382,
    "start_time": "2023-06-21T19:22:34.502Z"
   },
   {
    "duration": 925,
    "start_time": "2023-06-21T19:25:36.644Z"
   },
   {
    "duration": 1068,
    "start_time": "2023-06-21T19:25:57.689Z"
   },
   {
    "duration": 73,
    "start_time": "2023-06-21T19:27:00.824Z"
   },
   {
    "duration": 15,
    "start_time": "2023-06-21T19:29:22.498Z"
   },
   {
    "duration": 1080,
    "start_time": "2023-06-21T19:29:32.599Z"
   },
   {
    "duration": 76,
    "start_time": "2023-06-21T19:29:33.682Z"
   },
   {
    "duration": 103,
    "start_time": "2023-06-21T19:29:33.759Z"
   },
   {
    "duration": 0,
    "start_time": "2023-06-21T19:29:33.864Z"
   },
   {
    "duration": 0,
    "start_time": "2023-06-21T19:29:33.865Z"
   },
   {
    "duration": 0,
    "start_time": "2023-06-21T19:29:33.867Z"
   },
   {
    "duration": 0,
    "start_time": "2023-06-21T19:29:33.868Z"
   },
   {
    "duration": 0,
    "start_time": "2023-06-21T19:29:33.869Z"
   },
   {
    "duration": 0,
    "start_time": "2023-06-21T19:29:33.870Z"
   },
   {
    "duration": 0,
    "start_time": "2023-06-21T19:29:33.872Z"
   },
   {
    "duration": 0,
    "start_time": "2023-06-21T19:29:33.873Z"
   },
   {
    "duration": 0,
    "start_time": "2023-06-21T19:29:33.874Z"
   },
   {
    "duration": 0,
    "start_time": "2023-06-21T19:29:33.876Z"
   },
   {
    "duration": 1,
    "start_time": "2023-06-21T19:29:33.876Z"
   },
   {
    "duration": 0,
    "start_time": "2023-06-21T19:29:33.878Z"
   },
   {
    "duration": 0,
    "start_time": "2023-06-21T19:29:33.879Z"
   },
   {
    "duration": 0,
    "start_time": "2023-06-21T19:29:33.880Z"
   },
   {
    "duration": 0,
    "start_time": "2023-06-21T19:29:33.881Z"
   },
   {
    "duration": 0,
    "start_time": "2023-06-21T19:29:33.882Z"
   },
   {
    "duration": 0,
    "start_time": "2023-06-21T19:29:33.883Z"
   },
   {
    "duration": 76,
    "start_time": "2023-06-21T19:29:50.997Z"
   },
   {
    "duration": 9,
    "start_time": "2023-06-21T19:29:53.406Z"
   },
   {
    "duration": 10,
    "start_time": "2023-06-21T19:30:34.709Z"
   },
   {
    "duration": 5,
    "start_time": "2023-06-21T19:30:47.838Z"
   },
   {
    "duration": 12,
    "start_time": "2023-06-21T19:30:51.521Z"
   },
   {
    "duration": 7,
    "start_time": "2023-06-21T19:31:19.551Z"
   },
   {
    "duration": 7,
    "start_time": "2023-06-21T19:31:48.042Z"
   },
   {
    "duration": 12,
    "start_time": "2023-06-21T19:32:15.356Z"
   },
   {
    "duration": 35,
    "start_time": "2023-06-21T19:32:21.793Z"
   },
   {
    "duration": 495,
    "start_time": "2023-06-21T19:32:29.558Z"
   },
   {
    "duration": 224,
    "start_time": "2023-06-21T19:32:33.812Z"
   },
   {
    "duration": 389,
    "start_time": "2023-06-21T19:32:37.222Z"
   },
   {
    "duration": 272,
    "start_time": "2023-06-21T19:32:43.882Z"
   },
   {
    "duration": 1192,
    "start_time": "2023-06-21T19:32:47.800Z"
   },
   {
    "duration": 307,
    "start_time": "2023-06-21T19:35:15.487Z"
   },
   {
    "duration": 354,
    "start_time": "2023-06-21T19:41:36.088Z"
   },
   {
    "duration": 6,
    "start_time": "2023-06-21T20:01:36.803Z"
   },
   {
    "duration": 84,
    "start_time": "2023-06-21T20:03:10.018Z"
   },
   {
    "duration": 61,
    "start_time": "2023-06-21T20:03:17.111Z"
   },
   {
    "duration": 60,
    "start_time": "2023-06-21T20:03:22.214Z"
   },
   {
    "duration": 67,
    "start_time": "2023-06-21T20:03:36.916Z"
   },
   {
    "duration": 875,
    "start_time": "2023-06-21T20:03:47.986Z"
   },
   {
    "duration": 282,
    "start_time": "2023-06-21T20:15:55.090Z"
   },
   {
    "duration": 7,
    "start_time": "2023-06-21T20:18:40.995Z"
   },
   {
    "duration": 106,
    "start_time": "2023-06-21T20:18:56.096Z"
   },
   {
    "duration": 7,
    "start_time": "2023-06-21T20:19:04.315Z"
   },
   {
    "duration": 38,
    "start_time": "2023-06-21T20:24:44.591Z"
   },
   {
    "duration": 36,
    "start_time": "2023-06-21T20:25:17.240Z"
   },
   {
    "duration": 12,
    "start_time": "2023-06-21T20:29:38.452Z"
   },
   {
    "duration": 15,
    "start_time": "2023-06-21T20:33:31.799Z"
   },
   {
    "duration": 1114,
    "start_time": "2023-06-21T20:34:10.090Z"
   },
   {
    "duration": 74,
    "start_time": "2023-06-21T20:34:11.206Z"
   },
   {
    "duration": 4,
    "start_time": "2023-06-21T20:34:11.282Z"
   },
   {
    "duration": 22,
    "start_time": "2023-06-21T20:34:11.288Z"
   },
   {
    "duration": 7,
    "start_time": "2023-06-21T20:34:11.312Z"
   },
   {
    "duration": 21,
    "start_time": "2023-06-21T20:34:11.320Z"
   },
   {
    "duration": 33,
    "start_time": "2023-06-21T20:34:11.342Z"
   },
   {
    "duration": 515,
    "start_time": "2023-06-21T20:34:11.376Z"
   },
   {
    "duration": 251,
    "start_time": "2023-06-21T20:34:11.893Z"
   },
   {
    "duration": 387,
    "start_time": "2023-06-21T20:34:12.146Z"
   },
   {
    "duration": 303,
    "start_time": "2023-06-21T20:34:12.534Z"
   },
   {
    "duration": 292,
    "start_time": "2023-06-21T20:34:12.839Z"
   },
   {
    "duration": 146,
    "start_time": "2023-06-21T20:34:13.133Z"
   },
   {
    "duration": 9,
    "start_time": "2023-06-21T20:34:13.282Z"
   },
   {
    "duration": 167,
    "start_time": "2023-06-21T20:34:13.292Z"
   },
   {
    "duration": 5,
    "start_time": "2023-06-21T20:34:13.461Z"
   },
   {
    "duration": 46,
    "start_time": "2023-06-21T20:34:13.468Z"
   },
   {
    "duration": 11,
    "start_time": "2023-06-21T20:34:13.516Z"
   },
   {
    "duration": 59,
    "start_time": "2023-06-21T20:34:13.529Z"
   },
   {
    "duration": 12,
    "start_time": "2023-06-21T20:34:13.590Z"
   },
   {
    "duration": 7,
    "start_time": "2023-06-21T20:37:10.336Z"
   },
   {
    "duration": 34,
    "start_time": "2023-06-21T20:38:00.989Z"
   },
   {
    "duration": 1121,
    "start_time": "2023-06-21T20:38:15.891Z"
   },
   {
    "duration": 74,
    "start_time": "2023-06-21T20:38:17.014Z"
   },
   {
    "duration": 6,
    "start_time": "2023-06-21T20:38:17.091Z"
   },
   {
    "duration": 15,
    "start_time": "2023-06-21T20:38:17.100Z"
   },
   {
    "duration": 7,
    "start_time": "2023-06-21T20:38:17.117Z"
   },
   {
    "duration": 19,
    "start_time": "2023-06-21T20:38:17.126Z"
   },
   {
    "duration": 43,
    "start_time": "2023-06-21T20:38:17.147Z"
   },
   {
    "duration": 552,
    "start_time": "2023-06-21T20:38:17.192Z"
   },
   {
    "duration": 269,
    "start_time": "2023-06-21T20:38:17.746Z"
   },
   {
    "duration": 418,
    "start_time": "2023-06-21T20:38:18.018Z"
   },
   {
    "duration": 293,
    "start_time": "2023-06-21T20:38:18.437Z"
   },
   {
    "duration": 324,
    "start_time": "2023-06-21T20:38:18.732Z"
   },
   {
    "duration": 159,
    "start_time": "2023-06-21T20:38:19.058Z"
   },
   {
    "duration": 9,
    "start_time": "2023-06-21T20:38:19.219Z"
   },
   {
    "duration": 179,
    "start_time": "2023-06-21T20:38:19.230Z"
   },
   {
    "duration": 6,
    "start_time": "2023-06-21T20:38:19.412Z"
   },
   {
    "duration": 67,
    "start_time": "2023-06-21T20:38:19.420Z"
   },
   {
    "duration": 12,
    "start_time": "2023-06-21T20:38:19.489Z"
   },
   {
    "duration": 23,
    "start_time": "2023-06-21T20:38:19.503Z"
   },
   {
    "duration": 49,
    "start_time": "2023-06-21T20:38:19.528Z"
   },
   {
    "duration": 12,
    "start_time": "2023-06-21T20:38:19.579Z"
   },
   {
    "duration": 8,
    "start_time": "2023-06-21T20:38:26.948Z"
   },
   {
    "duration": 31,
    "start_time": "2023-06-21T20:38:29.712Z"
   },
   {
    "duration": 36,
    "start_time": "2023-06-21T20:40:27.014Z"
   },
   {
    "duration": 7,
    "start_time": "2023-06-21T20:41:01.765Z"
   },
   {
    "duration": 34,
    "start_time": "2023-06-21T20:41:06.240Z"
   },
   {
    "duration": 13,
    "start_time": "2023-06-21T20:45:26.625Z"
   },
   {
    "duration": 7,
    "start_time": "2023-06-21T20:47:54.965Z"
   },
   {
    "duration": 12,
    "start_time": "2023-06-21T20:47:57.715Z"
   },
   {
    "duration": 15,
    "start_time": "2023-06-21T20:50:58.313Z"
   },
   {
    "duration": 1194,
    "start_time": "2023-06-21T21:09:51.048Z"
   },
   {
    "duration": 76,
    "start_time": "2023-06-21T21:09:52.244Z"
   },
   {
    "duration": 6,
    "start_time": "2023-06-21T21:09:52.322Z"
   },
   {
    "duration": 90,
    "start_time": "2023-06-21T21:09:52.331Z"
   },
   {
    "duration": 37,
    "start_time": "2023-06-21T21:09:52.424Z"
   },
   {
    "duration": 40,
    "start_time": "2023-06-21T21:09:52.463Z"
   },
   {
    "duration": 60,
    "start_time": "2023-06-21T21:09:52.505Z"
   },
   {
    "duration": 606,
    "start_time": "2023-06-21T21:09:52.567Z"
   },
   {
    "duration": 283,
    "start_time": "2023-06-21T21:09:53.175Z"
   },
   {
    "duration": 389,
    "start_time": "2023-06-21T21:09:53.461Z"
   },
   {
    "duration": 289,
    "start_time": "2023-06-21T21:09:53.853Z"
   },
   {
    "duration": 332,
    "start_time": "2023-06-21T21:09:54.144Z"
   },
   {
    "duration": 148,
    "start_time": "2023-06-21T21:09:54.478Z"
   },
   {
    "duration": 8,
    "start_time": "2023-06-21T21:09:54.628Z"
   },
   {
    "duration": 195,
    "start_time": "2023-06-21T21:09:54.638Z"
   },
   {
    "duration": 5,
    "start_time": "2023-06-21T21:09:54.835Z"
   },
   {
    "duration": 102,
    "start_time": "2023-06-21T21:09:54.841Z"
   },
   {
    "duration": 36,
    "start_time": "2023-06-21T21:09:54.945Z"
   },
   {
    "duration": 66,
    "start_time": "2023-06-21T21:09:54.983Z"
   },
   {
    "duration": 57,
    "start_time": "2023-06-21T21:09:55.051Z"
   },
   {
    "duration": 33,
    "start_time": "2023-06-21T21:09:55.109Z"
   },
   {
    "duration": 58,
    "start_time": "2023-06-21T21:09:55.144Z"
   },
   {
    "duration": 64,
    "start_time": "2023-06-21T21:09:55.204Z"
   },
   {
    "duration": 1330,
    "start_time": "2023-06-21T21:10:05.020Z"
   },
   {
    "duration": 77,
    "start_time": "2023-06-21T21:10:06.353Z"
   },
   {
    "duration": 4,
    "start_time": "2023-06-21T21:10:06.432Z"
   },
   {
    "duration": 27,
    "start_time": "2023-06-21T21:10:06.438Z"
   },
   {
    "duration": 20,
    "start_time": "2023-06-21T21:10:06.467Z"
   },
   {
    "duration": 37,
    "start_time": "2023-06-21T21:10:06.489Z"
   },
   {
    "duration": 44,
    "start_time": "2023-06-21T21:10:06.528Z"
   },
   {
    "duration": 561,
    "start_time": "2023-06-21T21:10:06.574Z"
   },
   {
    "duration": 271,
    "start_time": "2023-06-21T21:10:07.137Z"
   },
   {
    "duration": 395,
    "start_time": "2023-06-21T21:10:07.411Z"
   },
   {
    "duration": 303,
    "start_time": "2023-06-21T21:10:07.808Z"
   },
   {
    "duration": 363,
    "start_time": "2023-06-21T21:10:08.113Z"
   },
   {
    "duration": 158,
    "start_time": "2023-06-21T21:10:08.479Z"
   },
   {
    "duration": 18,
    "start_time": "2023-06-21T21:10:08.638Z"
   },
   {
    "duration": 204,
    "start_time": "2023-06-21T21:10:08.658Z"
   },
   {
    "duration": 7,
    "start_time": "2023-06-21T21:10:08.864Z"
   },
   {
    "duration": 73,
    "start_time": "2023-06-21T21:10:08.873Z"
   },
   {
    "duration": 13,
    "start_time": "2023-06-21T21:10:08.947Z"
   },
   {
    "duration": 32,
    "start_time": "2023-06-21T21:10:08.961Z"
   },
   {
    "duration": 53,
    "start_time": "2023-06-21T21:10:08.996Z"
   },
   {
    "duration": 47,
    "start_time": "2023-06-21T21:10:09.050Z"
   },
   {
    "duration": 31,
    "start_time": "2023-06-21T21:10:09.100Z"
   },
   {
    "duration": 105,
    "start_time": "2023-06-21T21:10:09.133Z"
   },
   {
    "duration": 1250,
    "start_time": "2023-06-21T21:10:13.949Z"
   },
   {
    "duration": 87,
    "start_time": "2023-06-21T21:10:15.201Z"
   },
   {
    "duration": 6,
    "start_time": "2023-06-21T21:10:15.289Z"
   },
   {
    "duration": 54,
    "start_time": "2023-06-21T21:10:15.297Z"
   },
   {
    "duration": 54,
    "start_time": "2023-06-21T21:10:15.353Z"
   },
   {
    "duration": 54,
    "start_time": "2023-06-21T21:10:15.409Z"
   },
   {
    "duration": 72,
    "start_time": "2023-06-21T21:10:15.465Z"
   },
   {
    "duration": 710,
    "start_time": "2023-06-21T21:10:15.539Z"
   },
   {
    "duration": 276,
    "start_time": "2023-06-21T21:10:16.254Z"
   },
   {
    "duration": 391,
    "start_time": "2023-06-21T21:10:16.533Z"
   },
   {
    "duration": 280,
    "start_time": "2023-06-21T21:10:16.926Z"
   },
   {
    "duration": 302,
    "start_time": "2023-06-21T21:10:17.208Z"
   },
   {
    "duration": 152,
    "start_time": "2023-06-21T21:10:17.512Z"
   },
   {
    "duration": 12,
    "start_time": "2023-06-21T21:10:17.666Z"
   },
   {
    "duration": 225,
    "start_time": "2023-06-21T21:10:17.680Z"
   },
   {
    "duration": 6,
    "start_time": "2023-06-21T21:10:17.907Z"
   },
   {
    "duration": 81,
    "start_time": "2023-06-21T21:10:17.915Z"
   },
   {
    "duration": 28,
    "start_time": "2023-06-21T21:10:17.998Z"
   },
   {
    "duration": 51,
    "start_time": "2023-06-21T21:10:18.028Z"
   },
   {
    "duration": 68,
    "start_time": "2023-06-21T21:10:18.081Z"
   },
   {
    "duration": 47,
    "start_time": "2023-06-21T21:10:18.151Z"
   },
   {
    "duration": 38,
    "start_time": "2023-06-21T21:10:18.200Z"
   },
   {
    "duration": 1214,
    "start_time": "2023-06-22T09:38:58.729Z"
   },
   {
    "duration": 292,
    "start_time": "2023-06-22T09:38:59.945Z"
   },
   {
    "duration": 4,
    "start_time": "2023-06-22T09:39:00.239Z"
   },
   {
    "duration": 52,
    "start_time": "2023-06-22T09:39:00.245Z"
   },
   {
    "duration": 23,
    "start_time": "2023-06-22T09:39:00.299Z"
   },
   {
    "duration": 44,
    "start_time": "2023-06-22T09:39:00.324Z"
   },
   {
    "duration": 79,
    "start_time": "2023-06-22T09:39:00.370Z"
   },
   {
    "duration": 593,
    "start_time": "2023-06-22T09:39:00.457Z"
   },
   {
    "duration": 294,
    "start_time": "2023-06-22T09:39:01.054Z"
   },
   {
    "duration": 431,
    "start_time": "2023-06-22T09:39:01.350Z"
   },
   {
    "duration": 309,
    "start_time": "2023-06-22T09:39:01.783Z"
   },
   {
    "duration": 333,
    "start_time": "2023-06-22T09:39:06.674Z"
   },
   {
    "duration": 44,
    "start_time": "2023-06-22T09:39:14.962Z"
   },
   {
    "duration": 18,
    "start_time": "2023-06-22T09:41:27.465Z"
   },
   {
    "duration": 103,
    "start_time": "2023-06-22T09:46:16.108Z"
   },
   {
    "duration": 3,
    "start_time": "2023-06-22T09:46:26.614Z"
   },
   {
    "duration": 108,
    "start_time": "2023-06-22T09:46:26.619Z"
   },
   {
    "duration": 4,
    "start_time": "2023-06-22T09:46:26.729Z"
   },
   {
    "duration": 12,
    "start_time": "2023-06-22T09:46:26.735Z"
   },
   {
    "duration": 29,
    "start_time": "2023-06-22T09:46:26.750Z"
   },
   {
    "duration": 20,
    "start_time": "2023-06-22T09:46:26.781Z"
   },
   {
    "duration": 38,
    "start_time": "2023-06-22T09:46:26.802Z"
   },
   {
    "duration": 491,
    "start_time": "2023-06-22T09:46:26.842Z"
   },
   {
    "duration": 280,
    "start_time": "2023-06-22T09:46:27.335Z"
   },
   {
    "duration": 413,
    "start_time": "2023-06-22T09:46:27.617Z"
   },
   {
    "duration": 419,
    "start_time": "2023-06-22T09:46:28.032Z"
   },
   {
    "duration": 26,
    "start_time": "2023-06-22T09:46:28.463Z"
   },
   {
    "duration": 354,
    "start_time": "2023-06-22T09:46:28.491Z"
   },
   {
    "duration": 173,
    "start_time": "2023-06-22T09:46:28.848Z"
   },
   {
    "duration": 9,
    "start_time": "2023-06-22T09:46:29.022Z"
   },
   {
    "duration": 187,
    "start_time": "2023-06-22T09:46:29.033Z"
   },
   {
    "duration": 6,
    "start_time": "2023-06-22T09:46:29.222Z"
   },
   {
    "duration": 50,
    "start_time": "2023-06-22T09:46:29.229Z"
   },
   {
    "duration": 11,
    "start_time": "2023-06-22T09:46:29.281Z"
   },
   {
    "duration": 14,
    "start_time": "2023-06-22T09:46:29.293Z"
   },
   {
    "duration": 8,
    "start_time": "2023-06-22T09:46:38.334Z"
   },
   {
    "duration": 7,
    "start_time": "2023-06-22T09:46:45.432Z"
   }
  ],
  "kernelspec": {
   "display_name": "Python 3 (ipykernel)",
   "language": "python",
   "name": "python3"
  },
  "language_info": {
   "codemirror_mode": {
    "name": "ipython",
    "version": 3
   },
   "file_extension": ".py",
   "mimetype": "text/x-python",
   "name": "python",
   "nbconvert_exporter": "python",
   "pygments_lexer": "ipython3",
   "version": "3.9.5"
  },
  "toc": {
   "base_numbering": 1,
   "nav_menu": {},
   "number_sections": false,
   "sideBar": true,
   "skip_h1_title": false,
   "title_cell": "Table of Contents",
   "title_sidebar": "Contents",
   "toc_cell": false,
   "toc_position": {
    "height": "calc(100% - 180px)",
    "left": "10px",
    "top": "150px",
    "width": "251.425px"
   },
   "toc_section_display": true,
   "toc_window_display": true
  }
 },
 "nbformat": 4,
 "nbformat_minor": 4
}
